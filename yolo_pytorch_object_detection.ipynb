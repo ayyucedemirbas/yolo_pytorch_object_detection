{
  "nbformat": 4,
  "nbformat_minor": 0,
  "metadata": {
    "colab": {
      "name": "yolo_pytorch_object_detection.ipynb",
      "provenance": [],
      "collapsed_sections": [],
      "authorship_tag": "ABX9TyMg1FZsn9UxmI6Oai2fJEBm",
      "include_colab_link": true
    },
    "kernelspec": {
      "name": "python3",
      "display_name": "Python 3"
    },
    "language_info": {
      "name": "python"
    },
    "accelerator": "GPU"
  },
  "cells": [
    {
      "cell_type": "markdown",
      "metadata": {
        "id": "view-in-github",
        "colab_type": "text"
      },
      "source": [
        "<a href=\"https://colab.research.google.com/github/ayyucedemirbas/yolo_pytorch_object_detection/blob/main/yolo_pytorch_object_detection.ipynb\" target=\"_parent\"><img src=\"https://colab.research.google.com/assets/colab-badge.svg\" alt=\"Open In Colab\"/></a>"
      ]
    },
    {
      "cell_type": "code",
      "metadata": {
        "colab": {
          "base_uri": "https://localhost:8080/"
        },
        "id": "Ty3Q0O4K2dwN",
        "outputId": "6303aadd-5471-4511-b625-23fc199aaac6"
      },
      "source": [
        "!git clone https://github.com/ultralytics/yolov5"
      ],
      "execution_count": null,
      "outputs": [
        {
          "output_type": "stream",
          "name": "stdout",
          "text": [
            "Cloning into 'yolov5'...\n",
            "remote: Enumerating objects: 9627, done.\u001b[K\n",
            "remote: Counting objects: 100% (96/96), done.\u001b[K\n",
            "remote: Compressing objects: 100% (30/30), done.\u001b[K\n",
            "remote: Total 9627 (delta 69), reused 92 (delta 66), pack-reused 9531\u001b[K\n",
            "Receiving objects: 100% (9627/9627), 9.95 MiB | 25.21 MiB/s, done.\n",
            "Resolving deltas: 100% (6692/6692), done.\n"
          ]
        }
      ]
    },
    {
      "cell_type": "code",
      "metadata": {
        "colab": {
          "base_uri": "https://localhost:8080/"
        },
        "id": "yVW81K_k3KNx",
        "outputId": "6f47f5be-8a48-4a37-95f5-19fa53f988ea"
      },
      "source": [
        "!pip install -r yolov5/requirements.txt"
      ],
      "execution_count": null,
      "outputs": [
        {
          "output_type": "stream",
          "name": "stdout",
          "text": [
            "Requirement already satisfied: matplotlib>=3.2.2 in /usr/local/lib/python3.7/dist-packages (from -r yolov5/requirements.txt (line 4)) (3.2.2)\n",
            "Requirement already satisfied: numpy>=1.18.5 in /usr/local/lib/python3.7/dist-packages (from -r yolov5/requirements.txt (line 5)) (1.19.5)\n",
            "Requirement already satisfied: opencv-python>=4.1.2 in /usr/local/lib/python3.7/dist-packages (from -r yolov5/requirements.txt (line 6)) (4.1.2.30)\n",
            "Requirement already satisfied: Pillow>=7.1.2 in /usr/local/lib/python3.7/dist-packages (from -r yolov5/requirements.txt (line 7)) (7.1.2)\n",
            "Collecting PyYAML>=5.3.1\n",
            "  Downloading PyYAML-5.4.1-cp37-cp37m-manylinux1_x86_64.whl (636 kB)\n",
            "\u001b[K     |████████████████████████████████| 636 kB 5.3 MB/s \n",
            "\u001b[?25hRequirement already satisfied: scipy>=1.4.1 in /usr/local/lib/python3.7/dist-packages (from -r yolov5/requirements.txt (line 9)) (1.4.1)\n",
            "Requirement already satisfied: torch>=1.7.0 in /usr/local/lib/python3.7/dist-packages (from -r yolov5/requirements.txt (line 10)) (1.9.0+cu111)\n",
            "Requirement already satisfied: torchvision>=0.8.1 in /usr/local/lib/python3.7/dist-packages (from -r yolov5/requirements.txt (line 11)) (0.10.0+cu111)\n",
            "Requirement already satisfied: tqdm>=4.41.0 in /usr/local/lib/python3.7/dist-packages (from -r yolov5/requirements.txt (line 12)) (4.62.3)\n",
            "Requirement already satisfied: tensorboard>=2.4.1 in /usr/local/lib/python3.7/dist-packages (from -r yolov5/requirements.txt (line 15)) (2.6.0)\n",
            "Requirement already satisfied: pandas in /usr/local/lib/python3.7/dist-packages (from -r yolov5/requirements.txt (line 19)) (1.1.5)\n",
            "Requirement already satisfied: seaborn>=0.11.0 in /usr/local/lib/python3.7/dist-packages (from -r yolov5/requirements.txt (line 20)) (0.11.2)\n",
            "Collecting thop\n",
            "  Downloading thop-0.0.31.post2005241907-py3-none-any.whl (8.7 kB)\n",
            "Requirement already satisfied: cycler>=0.10 in /usr/local/lib/python3.7/dist-packages (from matplotlib>=3.2.2->-r yolov5/requirements.txt (line 4)) (0.10.0)\n",
            "Requirement already satisfied: kiwisolver>=1.0.1 in /usr/local/lib/python3.7/dist-packages (from matplotlib>=3.2.2->-r yolov5/requirements.txt (line 4)) (1.3.2)\n",
            "Requirement already satisfied: python-dateutil>=2.1 in /usr/local/lib/python3.7/dist-packages (from matplotlib>=3.2.2->-r yolov5/requirements.txt (line 4)) (2.8.2)\n",
            "Requirement already satisfied: pyparsing!=2.0.4,!=2.1.2,!=2.1.6,>=2.0.1 in /usr/local/lib/python3.7/dist-packages (from matplotlib>=3.2.2->-r yolov5/requirements.txt (line 4)) (2.4.7)\n",
            "Requirement already satisfied: typing-extensions in /usr/local/lib/python3.7/dist-packages (from torch>=1.7.0->-r yolov5/requirements.txt (line 10)) (3.7.4.3)\n",
            "Requirement already satisfied: markdown>=2.6.8 in /usr/local/lib/python3.7/dist-packages (from tensorboard>=2.4.1->-r yolov5/requirements.txt (line 15)) (3.3.4)\n",
            "Requirement already satisfied: google-auth-oauthlib<0.5,>=0.4.1 in /usr/local/lib/python3.7/dist-packages (from tensorboard>=2.4.1->-r yolov5/requirements.txt (line 15)) (0.4.6)\n",
            "Requirement already satisfied: grpcio>=1.24.3 in /usr/local/lib/python3.7/dist-packages (from tensorboard>=2.4.1->-r yolov5/requirements.txt (line 15)) (1.41.0)\n",
            "Requirement already satisfied: tensorboard-plugin-wit>=1.6.0 in /usr/local/lib/python3.7/dist-packages (from tensorboard>=2.4.1->-r yolov5/requirements.txt (line 15)) (1.8.0)\n",
            "Requirement already satisfied: setuptools>=41.0.0 in /usr/local/lib/python3.7/dist-packages (from tensorboard>=2.4.1->-r yolov5/requirements.txt (line 15)) (57.4.0)\n",
            "Requirement already satisfied: werkzeug>=0.11.15 in /usr/local/lib/python3.7/dist-packages (from tensorboard>=2.4.1->-r yolov5/requirements.txt (line 15)) (1.0.1)\n",
            "Requirement already satisfied: wheel>=0.26 in /usr/local/lib/python3.7/dist-packages (from tensorboard>=2.4.1->-r yolov5/requirements.txt (line 15)) (0.37.0)\n",
            "Requirement already satisfied: absl-py>=0.4 in /usr/local/lib/python3.7/dist-packages (from tensorboard>=2.4.1->-r yolov5/requirements.txt (line 15)) (0.12.0)\n",
            "Requirement already satisfied: tensorboard-data-server<0.7.0,>=0.6.0 in /usr/local/lib/python3.7/dist-packages (from tensorboard>=2.4.1->-r yolov5/requirements.txt (line 15)) (0.6.1)\n",
            "Requirement already satisfied: google-auth<2,>=1.6.3 in /usr/local/lib/python3.7/dist-packages (from tensorboard>=2.4.1->-r yolov5/requirements.txt (line 15)) (1.35.0)\n",
            "Requirement already satisfied: protobuf>=3.6.0 in /usr/local/lib/python3.7/dist-packages (from tensorboard>=2.4.1->-r yolov5/requirements.txt (line 15)) (3.17.3)\n",
            "Requirement already satisfied: requests<3,>=2.21.0 in /usr/local/lib/python3.7/dist-packages (from tensorboard>=2.4.1->-r yolov5/requirements.txt (line 15)) (2.23.0)\n",
            "Requirement already satisfied: pytz>=2017.2 in /usr/local/lib/python3.7/dist-packages (from pandas->-r yolov5/requirements.txt (line 19)) (2018.9)\n",
            "Requirement already satisfied: six in /usr/local/lib/python3.7/dist-packages (from absl-py>=0.4->tensorboard>=2.4.1->-r yolov5/requirements.txt (line 15)) (1.15.0)\n",
            "Requirement already satisfied: pyasn1-modules>=0.2.1 in /usr/local/lib/python3.7/dist-packages (from google-auth<2,>=1.6.3->tensorboard>=2.4.1->-r yolov5/requirements.txt (line 15)) (0.2.8)\n",
            "Requirement already satisfied: rsa<5,>=3.1.4 in /usr/local/lib/python3.7/dist-packages (from google-auth<2,>=1.6.3->tensorboard>=2.4.1->-r yolov5/requirements.txt (line 15)) (4.7.2)\n",
            "Requirement already satisfied: cachetools<5.0,>=2.0.0 in /usr/local/lib/python3.7/dist-packages (from google-auth<2,>=1.6.3->tensorboard>=2.4.1->-r yolov5/requirements.txt (line 15)) (4.2.4)\n",
            "Requirement already satisfied: requests-oauthlib>=0.7.0 in /usr/local/lib/python3.7/dist-packages (from google-auth-oauthlib<0.5,>=0.4.1->tensorboard>=2.4.1->-r yolov5/requirements.txt (line 15)) (1.3.0)\n",
            "Requirement already satisfied: importlib-metadata in /usr/local/lib/python3.7/dist-packages (from markdown>=2.6.8->tensorboard>=2.4.1->-r yolov5/requirements.txt (line 15)) (4.8.1)\n",
            "Requirement already satisfied: pyasn1<0.5.0,>=0.4.6 in /usr/local/lib/python3.7/dist-packages (from pyasn1-modules>=0.2.1->google-auth<2,>=1.6.3->tensorboard>=2.4.1->-r yolov5/requirements.txt (line 15)) (0.4.8)\n",
            "Requirement already satisfied: certifi>=2017.4.17 in /usr/local/lib/python3.7/dist-packages (from requests<3,>=2.21.0->tensorboard>=2.4.1->-r yolov5/requirements.txt (line 15)) (2021.5.30)\n",
            "Requirement already satisfied: idna<3,>=2.5 in /usr/local/lib/python3.7/dist-packages (from requests<3,>=2.21.0->tensorboard>=2.4.1->-r yolov5/requirements.txt (line 15)) (2.10)\n",
            "Requirement already satisfied: urllib3!=1.25.0,!=1.25.1,<1.26,>=1.21.1 in /usr/local/lib/python3.7/dist-packages (from requests<3,>=2.21.0->tensorboard>=2.4.1->-r yolov5/requirements.txt (line 15)) (1.24.3)\n",
            "Requirement already satisfied: chardet<4,>=3.0.2 in /usr/local/lib/python3.7/dist-packages (from requests<3,>=2.21.0->tensorboard>=2.4.1->-r yolov5/requirements.txt (line 15)) (3.0.4)\n",
            "Requirement already satisfied: oauthlib>=3.0.0 in /usr/local/lib/python3.7/dist-packages (from requests-oauthlib>=0.7.0->google-auth-oauthlib<0.5,>=0.4.1->tensorboard>=2.4.1->-r yolov5/requirements.txt (line 15)) (3.1.1)\n",
            "Requirement already satisfied: zipp>=0.5 in /usr/local/lib/python3.7/dist-packages (from importlib-metadata->markdown>=2.6.8->tensorboard>=2.4.1->-r yolov5/requirements.txt (line 15)) (3.6.0)\n",
            "Installing collected packages: thop, PyYAML\n",
            "  Attempting uninstall: PyYAML\n",
            "    Found existing installation: PyYAML 3.13\n",
            "    Uninstalling PyYAML-3.13:\n",
            "      Successfully uninstalled PyYAML-3.13\n",
            "Successfully installed PyYAML-5.4.1 thop-0.0.31.post2005241907\n"
          ]
        }
      ]
    },
    {
      "cell_type": "code",
      "metadata": {
        "id": "eKTeP3I03rij"
      },
      "source": [
        "import torch\n",
        "from IPython.display import Image  # for displaying images\n",
        "import os \n",
        "import random\n",
        "import shutil\n",
        "from sklearn.model_selection import train_test_split\n",
        "import xml.etree.ElementTree as ET\n",
        "from xml.dom import minidom\n",
        "from tqdm import tqdm\n",
        "from PIL import Image, ImageDraw\n",
        "import numpy as np\n",
        "import matplotlib.pyplot as plt\n",
        "\n",
        "random.seed(108)"
      ],
      "execution_count": null,
      "outputs": []
    },
    {
      "cell_type": "code",
      "metadata": {
        "colab": {
          "base_uri": "https://localhost:8080/"
        },
        "id": "1InpGRxv3sjU",
        "outputId": "e8fd320b-909b-4090-8c8e-317ab85b8567"
      },
      "source": [
        "%mkdir Road_Sign_Dataset\n",
        "%cd Road_Sign_Dataset"
      ],
      "execution_count": null,
      "outputs": [
        {
          "output_type": "stream",
          "name": "stdout",
          "text": [
            "/content/Road_Sign_Dataset\n"
          ]
        }
      ]
    },
    {
      "cell_type": "code",
      "metadata": {
        "colab": {
          "base_uri": "https://localhost:8080/"
        },
        "id": "WQpsKZOy30pV",
        "outputId": "c883bece-2d3d-4443-8109-c8053003f643"
      },
      "source": [
        "!wget -O RoadSignDetectionDataset.zip https://arcraftimages.s3-accelerate.amazonaws.com/Datasets/RoadSigns/RoadSignsPascalVOC.zip?region=us-east-2"
      ],
      "execution_count": null,
      "outputs": [
        {
          "output_type": "stream",
          "name": "stdout",
          "text": [
            "--2021-10-07 18:18:18--  https://arcraftimages.s3-accelerate.amazonaws.com/Datasets/RoadSigns/RoadSignsPascalVOC.zip?region=us-east-2\n",
            "Resolving arcraftimages.s3-accelerate.amazonaws.com (arcraftimages.s3-accelerate.amazonaws.com)... 54.230.18.187\n",
            "Connecting to arcraftimages.s3-accelerate.amazonaws.com (arcraftimages.s3-accelerate.amazonaws.com)|54.230.18.187|:443... connected.\n",
            "HTTP request sent, awaiting response... 200 OK\n",
            "Length: 229344361 (219M) [application/zip]\n",
            "Saving to: ‘RoadSignDetectionDataset.zip’\n",
            "\n",
            "RoadSignDetectionDa 100%[===================>] 218.72M  88.8MB/s    in 2.5s    \n",
            "\n",
            "2021-10-07 18:18:21 (88.8 MB/s) - ‘RoadSignDetectionDataset.zip’ saved [229344361/229344361]\n",
            "\n"
          ]
        }
      ]
    },
    {
      "cell_type": "code",
      "metadata": {
        "id": "xNqn82jX4mVh"
      },
      "source": [
        "!unzip RoadSignDetectionDataset.zip"
      ],
      "execution_count": null,
      "outputs": []
    },
    {
      "cell_type": "code",
      "metadata": {
        "id": "dLT12yGP4woq"
      },
      "source": [
        "!rm -r RoadSignDetectionDataset.zip"
      ],
      "execution_count": null,
      "outputs": []
    },
    {
      "cell_type": "code",
      "metadata": {
        "id": "_4KtemDk41km"
      },
      "source": [
        "# Function to get the data from XML Annotation\n",
        "def extract_info_from_xml(xml_file):\n",
        "    root = ET.parse(xml_file).getroot()\n",
        "    \n",
        "    # Initialise the info dict \n",
        "    info_dict = {}\n",
        "    info_dict['bboxes'] = []\n",
        "\n",
        "    # Parse the XML Tree\n",
        "    for elem in root:\n",
        "        # Get the file name \n",
        "        if elem.tag == \"filename\":\n",
        "            info_dict['filename'] = elem.text\n",
        "            \n",
        "        # Get the image size\n",
        "        elif elem.tag == \"size\":\n",
        "            image_size = []\n",
        "            for subelem in elem:\n",
        "                image_size.append(int(subelem.text))\n",
        "            \n",
        "            info_dict['image_size'] = tuple(image_size)\n",
        "        \n",
        "        # Get details of the bounding box \n",
        "        elif elem.tag == \"object\":\n",
        "            bbox = {}\n",
        "            for subelem in elem:\n",
        "                if subelem.tag == \"name\":\n",
        "                    bbox[\"class\"] = subelem.text\n",
        "                    \n",
        "                elif subelem.tag == \"bndbox\":\n",
        "                    for subsubelem in subelem:\n",
        "                        bbox[subsubelem.tag] = int(subsubelem.text)            \n",
        "            info_dict['bboxes'].append(bbox)\n",
        "    \n",
        "    return info_dict"
      ],
      "execution_count": null,
      "outputs": []
    },
    {
      "cell_type": "code",
      "metadata": {
        "id": "AcKw3BhH5HgH"
      },
      "source": [
        "# Dictionary that maps class names to IDs\n",
        "class_name_to_id_mapping = {\"trafficlight\": 0,\n",
        "                           \"stop\": 1,\n",
        "                           \"speedlimit\": 2,\n",
        "                           \"crosswalk\": 3}\n",
        "\n",
        "# Convert the info dict to the required yolo format and write it to disk\n",
        "def convert_to_yolov5(info_dict):\n",
        "    print_buffer = []\n",
        "    \n",
        "    # For each bounding box\n",
        "    for b in info_dict[\"bboxes\"]:\n",
        "        try:\n",
        "            class_id = class_name_to_id_mapping[b[\"class\"]]\n",
        "        except KeyError:\n",
        "            print(\"Invalid Class. Must be one from \", class_name_to_id_mapping.keys())\n",
        "        \n",
        "        # Transform the bbox co-ordinates as per the format required by YOLO v5\n",
        "        b_center_x = (b[\"xmin\"] + b[\"xmax\"]) / 2 \n",
        "        b_center_y = (b[\"ymin\"] + b[\"ymax\"]) / 2\n",
        "        b_width    = (b[\"xmax\"] - b[\"xmin\"])\n",
        "        b_height   = (b[\"ymax\"] - b[\"ymin\"])\n",
        "        \n",
        "        # Normalise the co-ordinates by the dimensions of the image\n",
        "        image_w, image_h, image_c = info_dict[\"image_size\"]  \n",
        "        b_center_x /= image_w \n",
        "        b_center_y /= image_h \n",
        "        b_width    /= image_w \n",
        "        b_height   /= image_h \n",
        "        \n",
        "        #Write the bbox details to the file \n",
        "        print_buffer.append(\"{} {:.3f} {:.3f} {:.3f} {:.3f}\".format(class_id, b_center_x, b_center_y, b_width, b_height))\n",
        "        \n",
        "    # Name of the file which we have to save \n",
        "    save_file_name = os.path.join(\"annotations\", info_dict[\"filename\"].replace(\"png\", \"txt\"))\n",
        "    \n",
        "    # Save the annotation to disk\n",
        "    print(\"\\n\".join(print_buffer), file= open(save_file_name, \"w\"))"
      ],
      "execution_count": null,
      "outputs": []
    },
    {
      "cell_type": "code",
      "metadata": {
        "colab": {
          "base_uri": "https://localhost:8080/"
        },
        "id": "WZacaojA5Rwb",
        "outputId": "c22a55b6-d7e3-4829-bdc7-100a99b0f138"
      },
      "source": [
        "annotations = [os.path.join('annotations', x) for x in os.listdir('annotations') if x[-3:] == \"xml\"]\n",
        "annotations.sort()\n",
        "\n",
        "# Convert and save the annotations\n",
        "for ann in tqdm(annotations):\n",
        "    info_dict = extract_info_from_xml(ann)\n",
        "    convert_to_yolov5(info_dict)\n",
        "annotations = [os.path.join('annotations', x) for x in os.listdir('annotations') if x[-3:] == \"txt\"]"
      ],
      "execution_count": null,
      "outputs": [
        {
          "output_type": "stream",
          "name": "stderr",
          "text": [
            "100%|██████████| 877/877 [00:00<00:00, 4609.04it/s]\n"
          ]
        }
      ]
    },
    {
      "cell_type": "code",
      "metadata": {
        "colab": {
          "base_uri": "https://localhost:8080/",
          "height": 269
        },
        "id": "lZ2Nsubu5jSX",
        "outputId": "ba9e9e1e-ed05-434b-c56e-0e1a018a1e87"
      },
      "source": [
        "random.seed(0)\n",
        "\n",
        "class_id_to_name_mapping = dict(zip(class_name_to_id_mapping.values(), class_name_to_id_mapping.keys()))\n",
        "\n",
        "def plot_bounding_box(image, annotation_list):\n",
        "    annotations = np.array(annotation_list)\n",
        "    w, h = image.size\n",
        "    \n",
        "    plotted_image = ImageDraw.Draw(image)\n",
        "\n",
        "    transformed_annotations = np.copy(annotations)\n",
        "    transformed_annotations[:,[1,3]] = annotations[:,[1,3]] * w\n",
        "    transformed_annotations[:,[2,4]] = annotations[:,[2,4]] * h \n",
        "    \n",
        "    transformed_annotations[:,1] = transformed_annotations[:,1] - (transformed_annotations[:,3] / 2)\n",
        "    transformed_annotations[:,2] = transformed_annotations[:,2] - (transformed_annotations[:,4] / 2)\n",
        "    transformed_annotations[:,3] = transformed_annotations[:,1] + transformed_annotations[:,3]\n",
        "    transformed_annotations[:,4] = transformed_annotations[:,2] + transformed_annotations[:,4]\n",
        "    \n",
        "    for ann in transformed_annotations:\n",
        "        obj_cls, x0, y0, x1, y1 = ann\n",
        "        plotted_image.rectangle(((x0,y0), (x1,y1)))\n",
        "        \n",
        "        plotted_image.text((x0, y0 - 10), class_id_to_name_mapping[(int(obj_cls))])\n",
        "    \n",
        "    plt.imshow(np.array(image))\n",
        "    plt.show()\n",
        "\n",
        "# Get any random annotation file \n",
        "annotation_file = random.choice(annotations)\n",
        "with open(annotation_file, \"r\") as file:\n",
        "    annotation_list = file.read().split(\"\\n\")[:-1]\n",
        "    annotation_list = [x.split(\" \") for x in annotation_list]\n",
        "    annotation_list = [[float(y) for y in x ] for x in annotation_list]\n",
        "\n",
        "#Get the corresponding image file\n",
        "image_file = annotation_file.replace(\"annotations\", \"images\").replace(\"txt\", \"png\")\n",
        "assert os.path.exists(image_file)\n",
        "\n",
        "#Load the image\n",
        "image = Image.open(image_file)\n",
        "\n",
        "#Plot the Bounding Box\n",
        "plot_bounding_box(image, annotation_list)"
      ],
      "execution_count": null,
      "outputs": [
        {
          "output_type": "display_data",
          "data": {
            "image/png": "[encoded data removed]",
            "text/plain": [
              "<Figure size 432x288 with 1 Axes>"
            ]
          },
          "metadata": {
            "needs_background": "light"
          }
        }
      ]
    },
    {
      "cell_type": "code",
      "metadata": {
        "id": "N3CqAZsZ5ous"
      },
      "source": [
        "# Read images and annotations\n",
        "images = [os.path.join('images', x) for x in os.listdir('images')]\n",
        "annotations = [os.path.join('annotations', x) for x in os.listdir('annotations') if x[-3:] == \"txt\"]\n",
        "\n",
        "images.sort()\n",
        "annotations.sort()\n",
        "\n",
        "# Split the dataset into train-valid-test splits \n",
        "train_images, val_images, train_annotations, val_annotations = train_test_split(images, annotations, test_size = 0.2, random_state = 1)\n",
        "val_images, test_images, val_annotations, test_annotations = train_test_split(val_images, val_annotations, test_size = 0.5, random_state = 1)"
      ],
      "execution_count": null,
      "outputs": []
    },
    {
      "cell_type": "code",
      "metadata": {
        "id": "doGua19Q55_g"
      },
      "source": [
        "!mkdir images/train images/val images/test annotations/train annotations/val annotations/test"
      ],
      "execution_count": null,
      "outputs": []
    },
    {
      "cell_type": "code",
      "metadata": {
        "id": "sDbi7teL5_XK"
      },
      "source": [
        "#Utility function to move images \n",
        "def move_files_to_folder(list_of_files, destination_folder):\n",
        "    for f in list_of_files:\n",
        "        try:\n",
        "            shutil.move(f, destination_folder)\n",
        "        except:\n",
        "            print(f)\n",
        "\n",
        "# Move the splits into their folders\n",
        "move_files_to_folder(train_images, 'images/train')\n",
        "move_files_to_folder(val_images, 'images/val/')\n",
        "move_files_to_folder(test_images, 'images/test/')\n",
        "move_files_to_folder(train_annotations, 'annotations/train/')\n",
        "move_files_to_folder(val_annotations, 'annotations/val/')\n",
        "move_files_to_folder(test_annotations, 'annotations/test/')"
      ],
      "execution_count": null,
      "outputs": []
    },
    {
      "cell_type": "code",
      "metadata": {
        "colab": {
          "base_uri": "https://localhost:8080/"
        },
        "id": "k9wEd5mu6RP0",
        "outputId": "546cca99-20bf-4170-887c-2b5532cf336d"
      },
      "source": [
        "%mv annotations labels\n",
        "%cd ../yolov5"
      ],
      "execution_count": null,
      "outputs": [
        {
          "output_type": "stream",
          "name": "stdout",
          "text": [
            "/content/yolov5\n"
          ]
        }
      ]
    },
    {
      "cell_type": "code",
      "metadata": {
        "id": "MrnW9qoM6W-I"
      },
      "source": [
        "train= \"../Road_Sign_Dataset/images/train/\"\n",
        "val=  \"../Road_Sign_Dataset/images/val/\"\n",
        "test= \"../Road_Sign_Dataset/images/test/\"\n"
      ],
      "execution_count": null,
      "outputs": []
    },
    {
      "cell_type": "code",
      "metadata": {
        "colab": {
          "base_uri": "https://localhost:8080/"
        },
        "id": "XeCN_0Qh6vAe",
        "outputId": "321159db-8760-4c14-d701-d3daff04fd11"
      },
      "source": [
        "!wget -P data/ https://raw.githubusercontent.com/ayyucedemirbas/yolo_pytorch_object_detection/main/road_sign_data.yaml"
      ],
      "execution_count": null,
      "outputs": [
        {
          "output_type": "stream",
          "name": "stdout",
          "text": [
            "--2021-10-07 18:18:24--  https://raw.githubusercontent.com/ayyucedemirbas/yolo_pytorch_object_detection/main/road_sign_data.yaml\n",
            "Resolving raw.githubusercontent.com (raw.githubusercontent.com)... 185.199.108.133, 185.199.109.133, 185.199.110.133, ...\n",
            "Connecting to raw.githubusercontent.com (raw.githubusercontent.com)|185.199.108.133|:443... connected.\n",
            "HTTP request sent, awaiting response... 200 OK\n",
            "Length: 221 [text/plain]\n",
            "Saving to: ‘data/road_sign_data.yaml’\n",
            "\n",
            "road_sign_data.yaml 100%[===================>]     221  --.-KB/s    in 0s      \n",
            "\n",
            "2021-10-07 18:18:25 (10.5 MB/s) - ‘data/road_sign_data.yaml’ saved [221/221]\n",
            "\n"
          ]
        }
      ]
    },
    {
      "cell_type": "code",
      "metadata": {
        "colab": {
          "base_uri": "https://localhost:8080/"
        },
        "id": "YNsjCDsy7qD0",
        "outputId": "29860050-dfa1-421d-fa5d-3db6cddfd581"
      },
      "source": [
        "!ls -al data"
      ],
      "execution_count": null,
      "outputs": [
        {
          "output_type": "stream",
          "name": "stdout",
          "text": [
            "total 68\n",
            "drwxr-xr-x 5 root root 4096 Oct  7 18:18 .\n",
            "drwxr-xr-x 7 root root 4096 Oct  7 18:17 ..\n",
            "-rw-r--r-- 1 root root 2757 Oct  7 18:17 Argoverse.yaml\n",
            "-rw-r--r-- 1 root root 1737 Oct  7 18:17 coco128.yaml\n",
            "-rw-r--r-- 1 root root 2351 Oct  7 18:17 coco.yaml\n",
            "-rw-r--r-- 1 root root 1886 Oct  7 18:17 GlobalWheat2020.yaml\n",
            "drwxr-xr-x 2 root root 4096 Oct  7 18:17 hyps\n",
            "drwxr-xr-x 2 root root 4096 Oct  7 18:17 images\n",
            "-rw-r--r-- 1 root root 7320 Oct  7 18:17 Objects365.yaml\n",
            "-rw-r--r-- 1 root root  221 Oct  7 18:18 road_sign_data.yaml\n",
            "drwxr-xr-x 2 root root 4096 Oct  7 18:17 scripts\n",
            "-rw-r--r-- 1 root root 2356 Oct  7 18:17 SKU-110K.yaml\n",
            "-rw-r--r-- 1 root root 2927 Oct  7 18:17 VisDrone.yaml\n",
            "-rw-r--r-- 1 root root 3381 Oct  7 18:17 VOC.yaml\n",
            "-rw-r--r-- 1 root root 5033 Oct  7 18:17 xView.yaml\n"
          ]
        }
      ]
    },
    {
      "cell_type": "code",
      "metadata": {
        "colab": {
          "base_uri": "https://localhost:8080/"
        },
        "id": "m5MqCCgj8SB9",
        "outputId": "7b6e7504-f502-407b-9e18-dcc90e55fe23"
      },
      "source": [
        "!wget -P data/ https://raw.githubusercontent.com/ayyucedemirbas/yolo_pytorch_object_detection/main/hyp.scratch.yaml"
      ],
      "execution_count": null,
      "outputs": [
        {
          "output_type": "stream",
          "name": "stdout",
          "text": [
            "--2021-10-07 18:18:25--  https://raw.githubusercontent.com/ayyucedemirbas/yolo_pytorch_object_detection/main/hyp.scratch.yaml\n",
            "Resolving raw.githubusercontent.com (raw.githubusercontent.com)... 185.199.108.133, 185.199.109.133, 185.199.110.133, ...\n",
            "Connecting to raw.githubusercontent.com (raw.githubusercontent.com)|185.199.108.133|:443... connected.\n",
            "HTTP request sent, awaiting response... 200 OK\n",
            "Length: 1566 (1.5K) [text/plain]\n",
            "Saving to: ‘data/hyp.scratch.yaml’\n",
            "\n",
            "hyp.scratch.yaml    100%[===================>]   1.53K  --.-KB/s    in 0s      \n",
            "\n",
            "2021-10-07 18:18:25 (22.2 MB/s) - ‘data/hyp.scratch.yaml’ saved [1566/1566]\n",
            "\n"
          ]
        }
      ]
    },
    {
      "cell_type": "code",
      "metadata": {
        "colab": {
          "base_uri": "https://localhost:8080/"
        },
        "id": "acnX5JVq8VG-",
        "outputId": "75c7c2cd-35d4-46a6-e740-2654ed5ce0f7"
      },
      "source": [
        "!wget -P data/ https://raw.githubusercontent.com/ayyucedemirbas/yolo_pytorch_object_detection/main/yolov5s.yaml"
      ],
      "execution_count": null,
      "outputs": [
        {
          "output_type": "stream",
          "name": "stdout",
          "text": [
            "--2021-10-07 18:18:25--  https://raw.githubusercontent.com/ayyucedemirbas/yolo_pytorch_object_detection/main/yolov5s.yaml\n",
            "Resolving raw.githubusercontent.com (raw.githubusercontent.com)... 185.199.108.133, 185.199.110.133, 185.199.111.133, ...\n",
            "Connecting to raw.githubusercontent.com (raw.githubusercontent.com)|185.199.108.133|:443... connected.\n",
            "HTTP request sent, awaiting response... 200 OK\n",
            "Length: 1367 (1.3K) [text/plain]\n",
            "Saving to: ‘data/yolov5s.yaml’\n",
            "\n",
            "yolov5s.yaml        100%[===================>]   1.33K  --.-KB/s    in 0s      \n",
            "\n",
            "2021-10-07 18:18:25 (71.7 MB/s) - ‘data/yolov5s.yaml’ saved [1367/1367]\n",
            "\n"
          ]
        }
      ]
    },
    {
      "cell_type": "code",
      "metadata": {
        "colab": {
          "base_uri": "https://localhost:8080/"
        },
        "id": "RL9oMA_N8x30",
        "outputId": "15607900-9116-417b-9aed-b7bf2892a0bc"
      },
      "source": [
        "!ls -al"
      ],
      "execution_count": null,
      "outputs": [
        {
          "output_type": "stream",
          "name": "stdout",
          "text": [
            "total 252\n",
            "drwxr-xr-x 7 root root  4096 Oct  7 18:17 .\n",
            "drwxr-xr-x 1 root root  4096 Oct  7 18:18 ..\n",
            "-rw-r--r-- 1 root root  4970 Oct  7 18:17 CONTRIBUTING.md\n",
            "drwxr-xr-x 5 root root  4096 Oct  7 18:18 data\n",
            "-rw-r--r-- 1 root root 14916 Oct  7 18:17 detect.py\n",
            "-rw-r--r-- 1 root root  1984 Oct  7 18:17 Dockerfile\n",
            "-rw-r--r-- 1 root root  3672 Oct  7 18:17 .dockerignore\n",
            "-rw-r--r-- 1 root root 16458 Oct  7 18:17 export.py\n",
            "drwxr-xr-x 8 root root  4096 Oct  7 18:17 .git\n",
            "-rw-r--r-- 1 root root    75 Oct  7 18:17 .gitattributes\n",
            "drwxr-xr-x 4 root root  4096 Oct  7 18:17 .github\n",
            "-rwxr-xr-x 1 root root  3892 Oct  7 18:17 .gitignore\n",
            "-rw-r--r-- 1 root root  5733 Oct  7 18:17 hubconf.py\n",
            "-rw-r--r-- 1 root root 35126 Oct  7 18:17 LICENSE\n",
            "drwxr-xr-x 3 root root  4096 Oct  7 18:17 models\n",
            "-rw-r--r-- 1 root root 14452 Oct  7 18:17 README.md\n",
            "-rwxr-xr-x 1 root root   868 Oct  7 18:17 requirements.txt\n",
            "-rw-r--r-- 1 root root 32005 Oct  7 18:17 train.py\n",
            "-rw-r--r-- 1 root root 48722 Oct  7 18:17 tutorial.ipynb\n",
            "drwxr-xr-x 6 root root  4096 Oct  7 18:17 utils\n",
            "-rw-r--r-- 1 root root 16936 Oct  7 18:17 val.py\n"
          ]
        }
      ]
    },
    {
      "cell_type": "code",
      "metadata": {
        "id": "B2FndMBtUc3M"
      },
      "source": [
        "!python train.py --img 640 --cfg yolov5s.yaml --hyp hyp.scratch.yaml --batch 32 --epochs 100 --data road_sign_data.yaml --weights yolov5s.pt --workers 24 --name yolo_road_det"
      ],
      "execution_count": null,
      "outputs": []
    },
    {
      "cell_type": "code",
      "metadata": {
        "colab": {
          "base_uri": "https://localhost:8080/"
        },
        "id": "EIAc1X-485T2",
        "outputId": "97218d94-8d86-415f-e5c1-e5e3a01c5e3e"
      },
      "source": [
        "!python train.py --img 640 --batch 32 --epochs 100 --data road_sign_data.yaml --weights yolov5s.pt --workers 24 --name yolo_road_det"
      ],
      "execution_count": null,
      "outputs": [
        {
          "output_type": "stream",
          "name": "stdout",
          "text": [
            "Downloading https://ultralytics.com/assets/Arial.ttf to /root/.config/Ultralytics/Arial.ttf...\n",
            "\u001b[34m\u001b[1mtrain: \u001b[0mweights=yolov5s.pt, cfg=, data=road_sign_data.yaml, hyp=data/hyps/hyp.scratch.yaml, epochs=100, batch_size=32, imgsz=640, rect=False, resume=False, nosave=False, noval=False, noautoanchor=False, evolve=None, bucket=, cache=None, image_weights=False, device=, multi_scale=False, single_cls=False, adam=False, sync_bn=False, workers=24, project=runs/train, name=yolo_road_det, exist_ok=False, quad=False, linear_lr=False, label_smoothing=0.0, patience=100, freeze=0, save_period=-1, local_rank=-1, entity=None, upload_dataset=False, bbox_interval=-1, artifact_alias=latest\n",
            "\u001b[34m\u001b[1mgithub: \u001b[0mup to date with https://github.com/ultralytics/yolov5 ✅\n",
            "YOLOv5 🚀 v5.0-496-g070af88 torch 1.9.0+cu111 CUDA:0 (Tesla K80, 11441.1875MB)\n",
            "\n",
            "\u001b[34m\u001b[1mhyperparameters: \u001b[0mlr0=0.01, lrf=0.2, momentum=0.937, weight_decay=0.0005, warmup_epochs=3.0, warmup_momentum=0.8, warmup_bias_lr=0.1, box=0.05, cls=0.5, cls_pw=1.0, obj=1.0, obj_pw=1.0, iou_t=0.2, anchor_t=4.0, fl_gamma=0.0, hsv_h=0.015, hsv_s=0.7, hsv_v=0.4, degrees=0.0, translate=0.1, scale=0.5, shear=0.0, perspective=0.0, flipud=0.0, fliplr=0.5, mosaic=1.0, mixup=0.0, copy_paste=0.0\n",
            "\u001b[34m\u001b[1mWeights & Biases: \u001b[0mrun 'pip install wandb' to automatically track and visualize YOLOv5 🚀 runs (RECOMMENDED)\n",
            "\u001b[34m\u001b[1mTensorBoard: \u001b[0mStart with 'tensorboard --logdir runs/train', view at http://localhost:6006/\n",
            "Downloading https://github.com/ultralytics/yolov5/releases/download/v5.0/yolov5s.pt to yolov5s.pt...\n",
            "100% 14.1M/14.1M [00:00<00:00, 44.7MB/s]\n",
            "\n",
            "Overriding model.yaml nc=80 with nc=4\n",
            "\n",
            "                 from  n    params  module                                  arguments                     \n",
            "  0                -1  1      3520  models.common.Focus                     [3, 32, 3]                    \n",
            "  1                -1  1     18560  models.common.Conv                      [32, 64, 3, 2]                \n",
            "  2                -1  1     18816  models.common.C3                        [64, 64, 1]                   \n",
            "  3                -1  1     73984  models.common.Conv                      [64, 128, 3, 2]               \n",
            "  4                -1  3    156928  models.common.C3                        [128, 128, 3]                 \n",
            "  5                -1  1    295424  models.common.Conv                      [128, 256, 3, 2]              \n",
            "  6                -1  3    625152  models.common.C3                        [256, 256, 3]                 \n",
            "  7                -1  1   1180672  models.common.Conv                      [256, 512, 3, 2]              \n",
            "  8                -1  1    656896  models.common.SPP                       [512, 512, [5, 9, 13]]        \n",
            "  9                -1  1   1182720  models.common.C3                        [512, 512, 1, False]          \n",
            " 10                -1  1    131584  models.common.Conv                      [512, 256, 1, 1]              \n",
            " 11                -1  1         0  torch.nn.modules.upsampling.Upsample    [None, 2, 'nearest']          \n",
            " 12           [-1, 6]  1         0  models.common.Concat                    [1]                           \n",
            " 13                -1  1    361984  models.common.C3                        [512, 256, 1, False]          \n",
            " 14                -1  1     33024  models.common.Conv                      [256, 128, 1, 1]              \n",
            " 15                -1  1         0  torch.nn.modules.upsampling.Upsample    [None, 2, 'nearest']          \n",
            " 16           [-1, 4]  1         0  models.common.Concat                    [1]                           \n",
            " 17                -1  1     90880  models.common.C3                        [256, 128, 1, False]          \n",
            " 18                -1  1    147712  models.common.Conv                      [128, 128, 3, 2]              \n",
            " 19          [-1, 14]  1         0  models.common.Concat                    [1]                           \n",
            " 20                -1  1    296448  models.common.C3                        [256, 256, 1, False]          \n",
            " 21                -1  1    590336  models.common.Conv                      [256, 256, 3, 2]              \n",
            " 22          [-1, 10]  1         0  models.common.Concat                    [1]                           \n",
            " 23                -1  1   1182720  models.common.C3                        [512, 512, 1, False]          \n",
            " 24      [17, 20, 23]  1     24273  models.yolo.Detect                      [4, [[10, 13, 16, 30, 33, 23], [30, 61, 62, 45, 59, 119], [116, 90, 156, 198, 373, 326]], [128, 256, 512]]\n",
            "Model Summary: 283 layers, 7071633 parameters, 7071633 gradients, 16.4 GFLOPs\n",
            "\n",
            "Transferred 356/362 items from yolov5s.pt\n",
            "Scaled weight_decay = 0.0005\n",
            "\u001b[34m\u001b[1moptimizer:\u001b[0m SGD with parameter groups 59 weight, 62 weight (no decay), 62 bias\n",
            "\u001b[34m\u001b[1malbumentations: \u001b[0mversion 1.0.3 required by YOLOv5, but version 0.1.12 is currently installed\n",
            "\u001b[34m\u001b[1mtrain: \u001b[0mScanning '../Road_Sign_Dataset/labels/train' images and labels...701 found, 0 missing, 0 empty, 0 corrupted: 100% 701/701 [00:00<00:00, 887.89it/s]\n",
            "\u001b[34m\u001b[1mtrain: \u001b[0mNew cache created: ../Road_Sign_Dataset/labels/train.cache\n",
            "\u001b[34m\u001b[1mval: \u001b[0mScanning '../Road_Sign_Dataset/labels/val' images and labels...88 found, 0 missing, 0 empty, 0 corrupted: 100% 88/88 [00:00<00:00, 411.45it/s]\n",
            "\u001b[34m\u001b[1mval: \u001b[0mNew cache created: ../Road_Sign_Dataset/labels/val.cache\n",
            "[W pthreadpool-cpp.cc:90] Warning: Leaking Caffe2 thread-pool after fork. (function pthreadpool)\n",
            "[W pthreadpool-cpp.cc:90] Warning: Leaking Caffe2 thread-pool after fork. (function pthreadpool)\n",
            "Plotting labels... \n",
            "\n",
            "\u001b[34m\u001b[1mautoanchor: \u001b[0mAnalyzing anchors... anchors/target = 5.59, Best Possible Recall (BPR) = 1.0000\n",
            "Image sizes 640 train, 640 val\n",
            "Using 2 dataloader workers\n",
            "Logging results to \u001b[1mruns/train/yolo_road_det\u001b[0m\n",
            "Starting training for 100 epochs...\n",
            "\n",
            "     Epoch   gpu_mem       box       obj       cls    labels  img_size\n",
            "      0/99     6.38G    0.1184   0.02629   0.04793        72       640: 100% 22/22 [00:52<00:00,  2.39s/it]\n",
            "               Class     Images     Labels          P          R     mAP@.5 mAP@.5:.95: 100% 2/2 [00:02<00:00,  1.31s/it]\n",
            "                 all         88        132    0.00751      0.102    0.00375   0.000781\n",
            "\n",
            "     Epoch   gpu_mem       box       obj       cls    labels  img_size\n",
            "      1/99      7.3G   0.09515   0.02949    0.0373        77       640: 100% 22/22 [00:49<00:00,  2.24s/it]\n",
            "               Class     Images     Labels          P          R     mAP@.5 mAP@.5:.95: 100% 2/2 [00:02<00:00,  1.15s/it]\n",
            "                 all         88        132     0.0548      0.133     0.0657     0.0205\n",
            "\n",
            "     Epoch   gpu_mem       box       obj       cls    labels  img_size\n",
            "      2/99      7.3G   0.07313   0.03211   0.03113        65       640: 100% 22/22 [00:49<00:00,  2.23s/it]\n",
            "               Class     Images     Labels          P          R     mAP@.5 mAP@.5:.95: 100% 2/2 [00:02<00:00,  1.07s/it]\n",
            "                 all         88        132      0.354      0.282      0.157     0.0678\n",
            "\n",
            "     Epoch   gpu_mem       box       obj       cls    labels  img_size\n",
            "      3/99      7.3G   0.06142   0.03167   0.02765        93       640: 100% 22/22 [00:49<00:00,  2.23s/it]\n",
            "               Class     Images     Labels          P          R     mAP@.5 mAP@.5:.95: 100% 2/2 [00:02<00:00,  1.05s/it]\n",
            "                 all         88        132      0.402      0.281      0.246       0.11\n",
            "\n",
            "     Epoch   gpu_mem       box       obj       cls    labels  img_size\n",
            "      4/99      7.3G   0.05844   0.02428    0.0238        64       640: 100% 22/22 [00:48<00:00,  2.23s/it]\n",
            "               Class     Images     Labels          P          R     mAP@.5 mAP@.5:.95: 100% 2/2 [00:02<00:00,  1.01s/it]\n",
            "                 all         88        132      0.394      0.445      0.336      0.143\n",
            "\n",
            "     Epoch   gpu_mem       box       obj       cls    labels  img_size\n",
            "      5/99      7.3G   0.05707   0.02098    0.0207        67       640: 100% 22/22 [00:48<00:00,  2.22s/it]\n",
            "               Class     Images     Labels          P          R     mAP@.5 mAP@.5:.95: 100% 2/2 [00:02<00:00,  1.00s/it]\n",
            "                 all         88        132      0.538      0.563      0.466      0.137\n",
            "\n",
            "     Epoch   gpu_mem       box       obj       cls    labels  img_size\n",
            "      6/99      7.3G   0.05537   0.01892    0.0174        73       640: 100% 22/22 [00:48<00:00,  2.22s/it]\n",
            "               Class     Images     Labels          P          R     mAP@.5 mAP@.5:.95: 100% 2/2 [00:01<00:00,  1.02it/s]\n",
            "                 all         88        132      0.694      0.494      0.501      0.197\n",
            "\n",
            "     Epoch   gpu_mem       box       obj       cls    labels  img_size\n",
            "      7/99      7.3G   0.05447   0.01712   0.01328        67       640: 100% 22/22 [00:48<00:00,  2.22s/it]\n",
            "               Class     Images     Labels          P          R     mAP@.5 mAP@.5:.95: 100% 2/2 [00:01<00:00,  1.04it/s]\n",
            "                 all         88        132      0.826       0.43      0.608      0.301\n",
            "\n",
            "     Epoch   gpu_mem       box       obj       cls    labels  img_size\n",
            "      8/99      7.3G    0.0506   0.01657   0.01049        61       640: 100% 22/22 [00:49<00:00,  2.23s/it]\n",
            "               Class     Images     Labels          P          R     mAP@.5 mAP@.5:.95: 100% 2/2 [00:01<00:00,  1.03it/s]\n",
            "                 all         88        132      0.537      0.714      0.646      0.304\n",
            "\n",
            "     Epoch   gpu_mem       box       obj       cls    labels  img_size\n",
            "      9/99      7.3G    0.0509   0.01496  0.008504        67       640: 100% 22/22 [00:49<00:00,  2.23s/it]\n",
            "               Class     Images     Labels          P          R     mAP@.5 mAP@.5:.95: 100% 2/2 [00:01<00:00,  1.04it/s]\n",
            "                 all         88        132      0.608      0.744      0.749      0.327\n",
            "\n",
            "     Epoch   gpu_mem       box       obj       cls    labels  img_size\n",
            "     10/99      7.3G   0.04942   0.01461  0.007327       101       640: 100% 22/22 [00:49<00:00,  2.23s/it]\n",
            "               Class     Images     Labels          P          R     mAP@.5 mAP@.5:.95: 100% 2/2 [00:01<00:00,  1.04it/s]\n",
            "                 all         88        132      0.587      0.836      0.742      0.371\n",
            "\n",
            "     Epoch   gpu_mem       box       obj       cls    labels  img_size\n",
            "     11/99      7.3G    0.0465   0.01366  0.006306        76       640: 100% 22/22 [00:48<00:00,  2.23s/it]\n",
            "               Class     Images     Labels          P          R     mAP@.5 mAP@.5:.95: 100% 2/2 [00:01<00:00,  1.05it/s]\n",
            "                 all         88        132      0.804      0.758      0.805       0.45\n",
            "\n",
            "     Epoch   gpu_mem       box       obj       cls    labels  img_size\n",
            "     12/99      7.3G   0.04507   0.01356  0.005704        80       640: 100% 22/22 [00:48<00:00,  2.23s/it]\n",
            "               Class     Images     Labels          P          R     mAP@.5 mAP@.5:.95: 100% 2/2 [00:01<00:00,  1.05it/s]\n",
            "                 all         88        132      0.714      0.799      0.779      0.392\n",
            "\n",
            "     Epoch   gpu_mem       box       obj       cls    labels  img_size\n",
            "     13/99      7.3G   0.04331   0.01286  0.005186        85       640: 100% 22/22 [00:48<00:00,  2.23s/it]\n",
            "               Class     Images     Labels          P          R     mAP@.5 mAP@.5:.95: 100% 2/2 [00:01<00:00,  1.04it/s]\n",
            "                 all         88        132      0.786      0.852      0.849       0.46\n",
            "\n",
            "     Epoch   gpu_mem       box       obj       cls    labels  img_size\n",
            "     14/99      7.3G   0.04279   0.01267  0.004942        56       640: 100% 22/22 [00:48<00:00,  2.22s/it]\n",
            "               Class     Images     Labels          P          R     mAP@.5 mAP@.5:.95: 100% 2/2 [00:01<00:00,  1.05it/s]\n",
            "                 all         88        132      0.648      0.869      0.793       0.36\n",
            "\n",
            "     Epoch   gpu_mem       box       obj       cls    labels  img_size\n",
            "     15/99      7.3G   0.04071   0.01189  0.004844        83       640: 100% 22/22 [00:48<00:00,  2.22s/it]\n",
            "               Class     Images     Labels          P          R     mAP@.5 mAP@.5:.95: 100% 2/2 [00:01<00:00,  1.05it/s]\n",
            "                 all         88        132      0.876      0.824      0.898      0.521\n",
            "\n",
            "     Epoch   gpu_mem       box       obj       cls    labels  img_size\n",
            "     16/99      7.3G   0.03995   0.01126  0.004219        76       640: 100% 22/22 [00:48<00:00,  2.22s/it]\n",
            "               Class     Images     Labels          P          R     mAP@.5 mAP@.5:.95: 100% 2/2 [00:01<00:00,  1.06it/s]\n",
            "                 all         88        132      0.751      0.865      0.868      0.404\n",
            "\n",
            "     Epoch   gpu_mem       box       obj       cls    labels  img_size\n",
            "     17/99      7.3G   0.03798   0.01097  0.003954        77       640: 100% 22/22 [00:48<00:00,  2.22s/it]\n",
            "               Class     Images     Labels          P          R     mAP@.5 mAP@.5:.95: 100% 2/2 [00:01<00:00,  1.05it/s]\n",
            "                 all         88        132      0.842      0.805      0.864      0.426\n",
            "\n",
            "     Epoch   gpu_mem       box       obj       cls    labels  img_size\n",
            "     18/99      7.3G   0.03802   0.01098  0.004019        65       640: 100% 22/22 [00:48<00:00,  2.23s/it]\n",
            "               Class     Images     Labels          P          R     mAP@.5 mAP@.5:.95: 100% 2/2 [00:01<00:00,  1.06it/s]\n",
            "                 all         88        132      0.909      0.855      0.887       0.56\n",
            "\n",
            "     Epoch   gpu_mem       box       obj       cls    labels  img_size\n",
            "     19/99      7.3G   0.03671   0.01059  0.003603        97       640: 100% 22/22 [00:49<00:00,  2.23s/it]\n",
            "               Class     Images     Labels          P          R     mAP@.5 mAP@.5:.95: 100% 2/2 [00:01<00:00,  1.05it/s]\n",
            "                 all         88        132      0.859      0.897      0.917      0.527\n",
            "\n",
            "     Epoch   gpu_mem       box       obj       cls    labels  img_size\n",
            "     20/99      7.3G   0.03705   0.01056  0.003497        60       640: 100% 22/22 [00:48<00:00,  2.23s/it]\n",
            "               Class     Images     Labels          P          R     mAP@.5 mAP@.5:.95: 100% 2/2 [00:01<00:00,  1.06it/s]\n",
            "                 all         88        132      0.836      0.882      0.884        0.5\n",
            "\n",
            "     Epoch   gpu_mem       box       obj       cls    labels  img_size\n",
            "     21/99      7.3G   0.03364   0.01026  0.003423        76       640: 100% 22/22 [00:49<00:00,  2.23s/it]\n",
            "               Class     Images     Labels          P          R     mAP@.5 mAP@.5:.95: 100% 2/2 [00:01<00:00,  1.01it/s]\n",
            "                 all         88        132      0.895        0.9      0.912      0.501\n",
            "\n",
            "     Epoch   gpu_mem       box       obj       cls    labels  img_size\n",
            "     22/99      7.3G   0.03803   0.01038  0.003342        67       640: 100% 22/22 [00:49<00:00,  2.24s/it]\n",
            "               Class     Images     Labels          P          R     mAP@.5 mAP@.5:.95: 100% 2/2 [00:01<00:00,  1.05it/s]\n",
            "                 all         88        132      0.763       0.85       0.89      0.455\n",
            "\n",
            "     Epoch   gpu_mem       box       obj       cls    labels  img_size\n",
            "     23/99      7.3G   0.04556   0.01088    0.0039        73       640: 100% 22/22 [00:48<00:00,  2.21s/it]\n",
            "               Class     Images     Labels          P          R     mAP@.5 mAP@.5:.95: 100% 2/2 [00:01<00:00,  1.04it/s]\n",
            "                 all         88        132      0.915      0.836      0.915      0.442\n",
            "\n",
            "     Epoch   gpu_mem       box       obj       cls    labels  img_size\n",
            "     24/99      7.3G   0.04529   0.01128  0.004039        88       640: 100% 22/22 [00:48<00:00,  2.21s/it]\n",
            "               Class     Images     Labels          P          R     mAP@.5 mAP@.5:.95: 100% 2/2 [00:01<00:00,  1.04it/s]\n",
            "                 all         88        132       0.74      0.831      0.864      0.509\n",
            "\n",
            "     Epoch   gpu_mem       box       obj       cls    labels  img_size\n",
            "     25/99      7.3G   0.04123   0.01032  0.003749        69       640: 100% 22/22 [00:48<00:00,  2.21s/it]\n",
            "               Class     Images     Labels          P          R     mAP@.5 mAP@.5:.95: 100% 2/2 [00:01<00:00,  1.06it/s]\n",
            "                 all         88        132      0.789      0.908      0.881      0.469\n",
            "\n",
            "     Epoch   gpu_mem       box       obj       cls    labels  img_size\n",
            "     26/99      7.3G   0.04091   0.01057  0.003646        84       640: 100% 22/22 [00:48<00:00,  2.21s/it]\n",
            "               Class     Images     Labels          P          R     mAP@.5 mAP@.5:.95: 100% 2/2 [00:01<00:00,  1.05it/s]\n",
            "                 all         88        132        0.8      0.851      0.889      0.478\n",
            "\n",
            "     Epoch   gpu_mem       box       obj       cls    labels  img_size\n",
            "     27/99      7.3G   0.03827   0.01047  0.003631        80       640: 100% 22/22 [00:48<00:00,  2.22s/it]\n",
            "               Class     Images     Labels          P          R     mAP@.5 mAP@.5:.95: 100% 2/2 [00:01<00:00,  1.03it/s]\n",
            "                 all         88        132       0.93      0.884       0.93      0.555\n",
            "\n",
            "     Epoch   gpu_mem       box       obj       cls    labels  img_size\n",
            "     28/99      7.3G   0.03755  0.009715  0.003294        58       640: 100% 22/22 [00:48<00:00,  2.21s/it]\n",
            "               Class     Images     Labels          P          R     mAP@.5 mAP@.5:.95: 100% 2/2 [00:01<00:00,  1.05it/s]\n",
            "                 all         88        132      0.897      0.839       0.91       0.55\n",
            "\n",
            "     Epoch   gpu_mem       box       obj       cls    labels  img_size\n",
            "     29/99      7.3G    0.0388   0.01018  0.003218        70       640: 100% 22/22 [00:48<00:00,  2.21s/it]\n",
            "               Class     Images     Labels          P          R     mAP@.5 mAP@.5:.95: 100% 2/2 [00:01<00:00,  1.05it/s]\n",
            "                 all         88        132      0.822      0.921      0.921      0.551\n",
            "\n",
            "     Epoch   gpu_mem       box       obj       cls    labels  img_size\n",
            "     30/99      7.3G    0.0364  0.009501  0.003431        82       640: 100% 22/22 [00:48<00:00,  2.21s/it]\n",
            "               Class     Images     Labels          P          R     mAP@.5 mAP@.5:.95: 100% 2/2 [00:01<00:00,  1.03it/s]\n",
            "                 all         88        132      0.926      0.852      0.923      0.556\n",
            "\n",
            "     Epoch   gpu_mem       box       obj       cls    labels  img_size\n",
            "     31/99      7.3G   0.03536  0.009768   0.00318        88       640: 100% 22/22 [00:48<00:00,  2.21s/it]\n",
            "               Class     Images     Labels          P          R     mAP@.5 mAP@.5:.95: 100% 2/2 [00:01<00:00,  1.05it/s]\n",
            "                 all         88        132        0.8      0.902      0.919      0.533\n",
            "\n",
            "     Epoch   gpu_mem       box       obj       cls    labels  img_size\n",
            "     32/99      7.3G   0.03482  0.009561  0.003004        76       640: 100% 22/22 [00:48<00:00,  2.21s/it]\n",
            "               Class     Images     Labels          P          R     mAP@.5 mAP@.5:.95: 100% 2/2 [00:01<00:00,  1.04it/s]\n",
            "                 all         88        132       0.96      0.924      0.954      0.652\n",
            "\n",
            "     Epoch   gpu_mem       box       obj       cls    labels  img_size\n",
            "     33/99      7.3G   0.03341  0.009686  0.002852        68       640: 100% 22/22 [00:48<00:00,  2.21s/it]\n",
            "               Class     Images     Labels          P          R     mAP@.5 mAP@.5:.95: 100% 2/2 [00:01<00:00,  1.06it/s]\n",
            "                 all         88        132      0.968      0.908      0.932      0.613\n",
            "\n",
            "     Epoch   gpu_mem       box       obj       cls    labels  img_size\n",
            "     34/99      7.3G    0.0322  0.009323  0.002902        80       640: 100% 22/22 [00:48<00:00,  2.21s/it]\n",
            "               Class     Images     Labels          P          R     mAP@.5 mAP@.5:.95: 100% 2/2 [00:01<00:00,  1.06it/s]\n",
            "                 all         88        132      0.971      0.911      0.946      0.596\n",
            "\n",
            "     Epoch   gpu_mem       box       obj       cls    labels  img_size\n",
            "     35/99      7.3G   0.03129  0.009399  0.002752        74       640: 100% 22/22 [00:48<00:00,  2.22s/it]\n",
            "               Class     Images     Labels          P          R     mAP@.5 mAP@.5:.95: 100% 2/2 [00:01<00:00,  1.04it/s]\n",
            "                 all         88        132      0.975      0.904      0.946       0.62\n",
            "\n",
            "     Epoch   gpu_mem       box       obj       cls    labels  img_size\n",
            "     36/99      7.3G   0.03277  0.009471  0.003052        72       640: 100% 22/22 [00:48<00:00,  2.22s/it]\n",
            "               Class     Images     Labels          P          R     mAP@.5 mAP@.5:.95: 100% 2/2 [00:01<00:00,  1.06it/s]\n",
            "                 all         88        132       0.95      0.834      0.889      0.605\n",
            "\n",
            "     Epoch   gpu_mem       box       obj       cls    labels  img_size\n",
            "     37/99      7.3G   0.02899  0.008884  0.002628        71       640: 100% 22/22 [00:48<00:00,  2.22s/it]\n",
            "               Class     Images     Labels          P          R     mAP@.5 mAP@.5:.95: 100% 2/2 [00:01<00:00,  1.05it/s]\n",
            "                 all         88        132      0.931      0.922      0.948      0.638\n",
            "\n",
            "     Epoch   gpu_mem       box       obj       cls    labels  img_size\n",
            "     38/99      7.3G   0.03042  0.009064  0.002505        67       640: 100% 22/22 [00:48<00:00,  2.21s/it]\n",
            "               Class     Images     Labels          P          R     mAP@.5 mAP@.5:.95: 100% 2/2 [00:01<00:00,  1.05it/s]\n",
            "                 all         88        132       0.95      0.916      0.943      0.668\n",
            "\n",
            "     Epoch   gpu_mem       box       obj       cls    labels  img_size\n",
            "     39/99      7.3G   0.02937  0.008902  0.002392        70       640: 100% 22/22 [00:48<00:00,  2.21s/it]\n",
            "               Class     Images     Labels          P          R     mAP@.5 mAP@.5:.95: 100% 2/2 [00:01<00:00,  1.05it/s]\n",
            "                 all         88        132       0.96      0.877      0.918      0.621\n",
            "\n",
            "     Epoch   gpu_mem       box       obj       cls    labels  img_size\n",
            "     40/99      7.3G   0.02999  0.008846   0.00255        69       640: 100% 22/22 [00:48<00:00,  2.21s/it]\n",
            "               Class     Images     Labels          P          R     mAP@.5 mAP@.5:.95: 100% 2/2 [00:01<00:00,  1.04it/s]\n",
            "                 all         88        132      0.896      0.924      0.932      0.662\n",
            "\n",
            "     Epoch   gpu_mem       box       obj       cls    labels  img_size\n",
            "     41/99      7.3G   0.02807  0.008845  0.002473        96       640: 100% 22/22 [00:48<00:00,  2.21s/it]\n",
            "               Class     Images     Labels          P          R     mAP@.5 mAP@.5:.95: 100% 2/2 [00:01<00:00,  1.04it/s]\n",
            "                 all         88        132      0.981      0.911      0.964      0.677\n",
            "\n",
            "     Epoch   gpu_mem       box       obj       cls    labels  img_size\n",
            "     42/99      7.3G   0.02766  0.009148   0.00242        75       640: 100% 22/22 [00:48<00:00,  2.21s/it]\n",
            "               Class     Images     Labels          P          R     mAP@.5 mAP@.5:.95: 100% 2/2 [00:01<00:00,  1.04it/s]\n",
            "                 all         88        132      0.945      0.931      0.938      0.676\n",
            "\n",
            "     Epoch   gpu_mem       box       obj       cls    labels  img_size\n",
            "     43/99      7.3G   0.02706  0.008874  0.002463        79       640: 100% 22/22 [00:48<00:00,  2.21s/it]\n",
            "               Class     Images     Labels          P          R     mAP@.5 mAP@.5:.95: 100% 2/2 [00:01<00:00,  1.06it/s]\n",
            "                 all         88        132      0.979      0.886      0.929      0.658\n",
            "\n",
            "     Epoch   gpu_mem       box       obj       cls    labels  img_size\n",
            "     44/99      7.3G   0.02771  0.008479  0.002469        62       640: 100% 22/22 [00:48<00:00,  2.21s/it]\n",
            "               Class     Images     Labels          P          R     mAP@.5 mAP@.5:.95: 100% 2/2 [00:01<00:00,  1.05it/s]\n",
            "                 all         88        132       0.99      0.906      0.943      0.681\n",
            "\n",
            "     Epoch   gpu_mem       box       obj       cls    labels  img_size\n",
            "     45/99      7.3G   0.02707  0.008598  0.002144        80       640: 100% 22/22 [00:48<00:00,  2.21s/it]\n",
            "               Class     Images     Labels          P          R     mAP@.5 mAP@.5:.95: 100% 2/2 [00:01<00:00,  1.05it/s]\n",
            "                 all         88        132      0.951      0.913      0.945      0.652\n",
            "\n",
            "     Epoch   gpu_mem       box       obj       cls    labels  img_size\n",
            "     46/99      7.3G   0.02556  0.008476  0.002155        70       640: 100% 22/22 [00:48<00:00,  2.21s/it]\n",
            "               Class     Images     Labels          P          R     mAP@.5 mAP@.5:.95: 100% 2/2 [00:01<00:00,  1.06it/s]\n",
            "                 all         88        132      0.987      0.867       0.91      0.649\n",
            "\n",
            "     Epoch   gpu_mem       box       obj       cls    labels  img_size\n",
            "     47/99      7.3G    0.0248  0.008418  0.002213        84       640: 100% 22/22 [00:48<00:00,  2.21s/it]\n",
            "               Class     Images     Labels          P          R     mAP@.5 mAP@.5:.95: 100% 2/2 [00:01<00:00,  1.05it/s]\n",
            "                 all         88        132      0.945      0.921      0.935      0.682\n",
            "\n",
            "     Epoch   gpu_mem       box       obj       cls    labels  img_size\n",
            "     48/99      7.3G   0.02358  0.008241  0.001868        64       640: 100% 22/22 [00:48<00:00,  2.21s/it]\n",
            "               Class     Images     Labels          P          R     mAP@.5 mAP@.5:.95: 100% 2/2 [00:01<00:00,  1.05it/s]\n",
            "                 all         88        132      0.994      0.883      0.931      0.703\n",
            "\n",
            "     Epoch   gpu_mem       box       obj       cls    labels  img_size\n",
            "     49/99      7.3G   0.02317  0.008064  0.001996        84       640: 100% 22/22 [00:48<00:00,  2.21s/it]\n",
            "               Class     Images     Labels          P          R     mAP@.5 mAP@.5:.95: 100% 2/2 [00:01<00:00,  1.05it/s]\n",
            "                 all         88        132      0.984      0.911      0.932      0.701\n",
            "\n",
            "     Epoch   gpu_mem       box       obj       cls    labels  img_size\n",
            "     50/99      7.3G   0.02259  0.007774  0.001848        62       640: 100% 22/22 [00:48<00:00,  2.21s/it]\n",
            "               Class     Images     Labels          P          R     mAP@.5 mAP@.5:.95: 100% 2/2 [00:01<00:00,  1.05it/s]\n",
            "                 all         88        132      0.964      0.911      0.921      0.729\n",
            "\n",
            "     Epoch   gpu_mem       box       obj       cls    labels  img_size\n",
            "     51/99      7.3G   0.02287  0.007977  0.001821        85       640: 100% 22/22 [00:48<00:00,  2.21s/it]\n",
            "               Class     Images     Labels          P          R     mAP@.5 mAP@.5:.95: 100% 2/2 [00:01<00:00,  1.06it/s]\n",
            "                 all         88        132      0.979      0.904      0.934      0.693\n",
            "\n",
            "     Epoch   gpu_mem       box       obj       cls    labels  img_size\n",
            "     52/99      7.3G   0.02237  0.007695  0.001923        70       640: 100% 22/22 [00:48<00:00,  2.21s/it]\n",
            "               Class     Images     Labels          P          R     mAP@.5 mAP@.5:.95: 100% 2/2 [00:01<00:00,  1.06it/s]\n",
            "                 all         88        132      0.943      0.944      0.972      0.712\n",
            "\n",
            "     Epoch   gpu_mem       box       obj       cls    labels  img_size\n",
            "     53/99      7.3G   0.02239   0.00761  0.001907        87       640: 100% 22/22 [00:48<00:00,  2.21s/it]\n",
            "               Class     Images     Labels          P          R     mAP@.5 mAP@.5:.95: 100% 2/2 [00:01<00:00,  1.06it/s]\n",
            "                 all         88        132      0.957      0.925      0.967      0.738\n",
            "\n",
            "     Epoch   gpu_mem       box       obj       cls    labels  img_size\n",
            "     54/99      7.3G   0.02153  0.007645  0.001626        88       640: 100% 22/22 [00:48<00:00,  2.21s/it]\n",
            "               Class     Images     Labels          P          R     mAP@.5 mAP@.5:.95: 100% 2/2 [00:01<00:00,  1.04it/s]\n",
            "                 all         88        132      0.954      0.959      0.962      0.737\n",
            "\n",
            "     Epoch   gpu_mem       box       obj       cls    labels  img_size\n",
            "     55/99      7.3G    0.0218   0.00766  0.001595        80       640: 100% 22/22 [00:48<00:00,  2.21s/it]\n",
            "               Class     Images     Labels          P          R     mAP@.5 mAP@.5:.95: 100% 2/2 [00:02<00:00,  1.00s/it]\n",
            "                 all         88        132      0.991      0.858      0.938      0.726\n",
            "\n",
            "     Epoch   gpu_mem       box       obj       cls    labels  img_size\n",
            "     56/99      7.3G    0.0206  0.007514  0.001845        81       640: 100% 22/22 [00:48<00:00,  2.21s/it]\n",
            "               Class     Images     Labels          P          R     mAP@.5 mAP@.5:.95: 100% 2/2 [00:01<00:00,  1.03it/s]\n",
            "                 all         88        132      0.904      0.953      0.954      0.725\n",
            "\n",
            "     Epoch   gpu_mem       box       obj       cls    labels  img_size\n",
            "     57/99      7.3G   0.02004  0.007262  0.001557        68       640: 100% 22/22 [00:48<00:00,  2.21s/it]\n",
            "               Class     Images     Labels          P          R     mAP@.5 mAP@.5:.95: 100% 2/2 [00:01<00:00,  1.07it/s]\n",
            "                 all         88        132      0.981      0.927      0.948      0.737\n",
            "\n",
            "     Epoch   gpu_mem       box       obj       cls    labels  img_size\n",
            "     58/99      7.3G   0.01974  0.007612  0.001471        63       640: 100% 22/22 [00:48<00:00,  2.21s/it]\n",
            "               Class     Images     Labels          P          R     mAP@.5 mAP@.5:.95: 100% 2/2 [00:01<00:00,  1.04it/s]\n",
            "                 all         88        132      0.996      0.923      0.939      0.719\n",
            "\n",
            "     Epoch   gpu_mem       box       obj       cls    labels  img_size\n",
            "     59/99      7.3G   0.01968  0.007557   0.00141        80       640: 100% 22/22 [00:48<00:00,  2.21s/it]\n",
            "               Class     Images     Labels          P          R     mAP@.5 mAP@.5:.95: 100% 2/2 [00:01<00:00,  1.04it/s]\n",
            "                 all         88        132      0.988      0.916      0.948      0.744\n",
            "\n",
            "     Epoch   gpu_mem       box       obj       cls    labels  img_size\n",
            "     60/99      7.3G   0.01987  0.007204  0.001285        79       640: 100% 22/22 [00:48<00:00,  2.21s/it]\n",
            "               Class     Images     Labels          P          R     mAP@.5 mAP@.5:.95: 100% 2/2 [00:01<00:00,  1.05it/s]\n",
            "                 all         88        132       0.98      0.924      0.933      0.753\n",
            "\n",
            "     Epoch   gpu_mem       box       obj       cls    labels  img_size\n",
            "     61/99      7.3G   0.01852  0.007179  0.001386        74       640: 100% 22/22 [00:48<00:00,  2.21s/it]\n",
            "               Class     Images     Labels          P          R     mAP@.5 mAP@.5:.95: 100% 2/2 [00:01<00:00,  1.04it/s]\n",
            "                 all         88        132      0.999      0.928      0.969      0.727\n",
            "\n",
            "     Epoch   gpu_mem       box       obj       cls    labels  img_size\n",
            "     62/99      7.3G   0.01833  0.007123  0.001317        66       640: 100% 22/22 [00:48<00:00,  2.21s/it]\n",
            "               Class     Images     Labels          P          R     mAP@.5 mAP@.5:.95: 100% 2/2 [00:01<00:00,  1.07it/s]\n",
            "                 all         88        132      0.985      0.933      0.966      0.738\n",
            "\n",
            "     Epoch   gpu_mem       box       obj       cls    labels  img_size\n",
            "     63/99      7.3G   0.01841   0.00708  0.001145        78       640: 100% 22/22 [00:48<00:00,  2.21s/it]\n",
            "               Class     Images     Labels          P          R     mAP@.5 mAP@.5:.95: 100% 2/2 [00:01<00:00,  1.04it/s]\n",
            "                 all         88        132      0.988      0.924      0.954      0.748\n",
            "\n",
            "     Epoch   gpu_mem       box       obj       cls    labels  img_size\n",
            "     64/99      7.3G   0.01759  0.007061  0.001281        63       640: 100% 22/22 [00:48<00:00,  2.21s/it]\n",
            "               Class     Images     Labels          P          R     mAP@.5 mAP@.5:.95: 100% 2/2 [00:01<00:00,  1.05it/s]\n",
            "                 all         88        132      0.931      0.924      0.953       0.76\n",
            "\n",
            "     Epoch   gpu_mem       box       obj       cls    labels  img_size\n",
            "     65/99      7.3G   0.01743  0.006905  0.001129        81       640: 100% 22/22 [00:48<00:00,  2.21s/it]\n",
            "               Class     Images     Labels          P          R     mAP@.5 mAP@.5:.95: 100% 2/2 [00:01<00:00,  1.03it/s]\n",
            "                 all         88        132      0.995      0.919      0.975      0.759\n",
            "\n",
            "     Epoch   gpu_mem       box       obj       cls    labels  img_size\n",
            "     66/99      7.3G   0.01684  0.006585  0.001146        77       640: 100% 22/22 [00:48<00:00,  2.21s/it]\n",
            "               Class     Images     Labels          P          R     mAP@.5 mAP@.5:.95: 100% 2/2 [00:01<00:00,  1.06it/s]\n",
            "                 all         88        132      0.995      0.929      0.972      0.756\n",
            "\n",
            "     Epoch   gpu_mem       box       obj       cls    labels  img_size\n",
            "     67/99      7.3G   0.01632  0.006845  0.001065        56       640: 100% 22/22 [00:48<00:00,  2.21s/it]\n",
            "               Class     Images     Labels          P          R     mAP@.5 mAP@.5:.95: 100% 2/2 [00:01<00:00,  1.04it/s]\n",
            "                 all         88        132      0.987      0.924      0.945      0.739\n",
            "\n",
            "     Epoch   gpu_mem       box       obj       cls    labels  img_size\n",
            "     68/99      7.3G   0.01637   0.00696  0.000984        57       640: 100% 22/22 [00:48<00:00,  2.21s/it]\n",
            "               Class     Images     Labels          P          R     mAP@.5 mAP@.5:.95: 100% 2/2 [00:01<00:00,  1.06it/s]\n",
            "                 all         88        132       0.99       0.93      0.977      0.764\n",
            "\n",
            "     Epoch   gpu_mem       box       obj       cls    labels  img_size\n",
            "     69/99      7.3G   0.01689  0.007033    0.0011        75       640: 100% 22/22 [00:48<00:00,  2.21s/it]\n",
            "               Class     Images     Labels          P          R     mAP@.5 mAP@.5:.95: 100% 2/2 [00:01<00:00,  1.07it/s]\n",
            "                 all         88        132      0.993      0.932      0.985       0.76\n",
            "\n",
            "     Epoch   gpu_mem       box       obj       cls    labels  img_size\n",
            "     70/99      7.3G   0.01555  0.006245 0.0009515        61       640: 100% 22/22 [00:48<00:00,  2.21s/it]\n",
            "               Class     Images     Labels          P          R     mAP@.5 mAP@.5:.95: 100% 2/2 [00:01<00:00,  1.04it/s]\n",
            "                 all         88        132      0.988      0.924      0.962      0.769\n",
            "\n",
            "     Epoch   gpu_mem       box       obj       cls    labels  img_size\n",
            "     71/99      7.3G   0.01676  0.006435 0.0009664        79       640: 100% 22/22 [00:48<00:00,  2.21s/it]\n",
            "               Class     Images     Labels          P          R     mAP@.5 mAP@.5:.95: 100% 2/2 [00:01<00:00,  1.06it/s]\n",
            "                 all         88        132      0.984      0.911      0.954      0.772\n",
            "\n",
            "     Epoch   gpu_mem       box       obj       cls    labels  img_size\n",
            "     72/99      7.3G   0.01513   0.00636  0.001013        76       640: 100% 22/22 [00:48<00:00,  2.21s/it]\n",
            "               Class     Images     Labels          P          R     mAP@.5 mAP@.5:.95: 100% 2/2 [00:01<00:00,  1.04it/s]\n",
            "                 all         88        132       0.99      0.929      0.978      0.773\n",
            "\n",
            "     Epoch   gpu_mem       box       obj       cls    labels  img_size\n",
            "     73/99      7.3G    0.0156  0.006761     0.001        80       640: 100% 22/22 [00:48<00:00,  2.21s/it]\n",
            "               Class     Images     Labels          P          R     mAP@.5 mAP@.5:.95: 100% 2/2 [00:01<00:00,  1.05it/s]\n",
            "                 all         88        132       0.99      0.932      0.982      0.776\n",
            "\n",
            "     Epoch   gpu_mem       box       obj       cls    labels  img_size\n",
            "     74/99      7.3G   0.01546  0.006639 0.0009087        75       640: 100% 22/22 [00:48<00:00,  2.21s/it]\n",
            "               Class     Images     Labels          P          R     mAP@.5 mAP@.5:.95: 100% 2/2 [00:01<00:00,  1.07it/s]\n",
            "                 all         88        132      0.975      0.934      0.968      0.751\n",
            "\n",
            "     Epoch   gpu_mem       box       obj       cls    labels  img_size\n",
            "     75/99      7.3G   0.01531    0.0064  0.001034        71       640: 100% 22/22 [00:48<00:00,  2.21s/it]\n",
            "               Class     Images     Labels          P          R     mAP@.5 mAP@.5:.95: 100% 2/2 [00:01<00:00,  1.05it/s]\n",
            "                 all         88        132      0.994      0.932      0.971      0.757\n",
            "\n",
            "     Epoch   gpu_mem       box       obj       cls    labels  img_size\n",
            "     76/99      7.3G   0.01522  0.006009 0.0009028        69       640: 100% 22/22 [00:48<00:00,  2.21s/it]\n",
            "               Class     Images     Labels          P          R     mAP@.5 mAP@.5:.95: 100% 2/2 [00:01<00:00,  1.05it/s]\n",
            "                 all         88        132      0.992      0.929      0.976      0.757\n",
            "\n",
            "     Epoch   gpu_mem       box       obj       cls    labels  img_size\n",
            "     77/99      7.3G    0.0149  0.006277 0.0007979        72       640: 100% 22/22 [00:48<00:00,  2.21s/it]\n",
            "               Class     Images     Labels          P          R     mAP@.5 mAP@.5:.95: 100% 2/2 [00:01<00:00,  1.07it/s]\n",
            "                 all         88        132      0.993      0.923      0.982       0.78\n",
            "\n",
            "     Epoch   gpu_mem       box       obj       cls    labels  img_size\n",
            "     78/99      7.3G   0.01501  0.006259 0.0008647        79       640: 100% 22/22 [00:48<00:00,  2.21s/it]\n",
            "               Class     Images     Labels          P          R     mAP@.5 mAP@.5:.95: 100% 2/2 [00:01<00:00,  1.05it/s]\n",
            "                 all         88        132       0.98      0.931      0.978      0.795\n",
            "\n",
            "     Epoch   gpu_mem       box       obj       cls    labels  img_size\n",
            "     79/99      7.3G   0.01433  0.006198 0.0007979        61       640: 100% 22/22 [00:48<00:00,  2.21s/it]\n",
            "               Class     Images     Labels          P          R     mAP@.5 mAP@.5:.95: 100% 2/2 [00:01<00:00,  1.06it/s]\n",
            "                 all         88        132      0.985      0.934      0.973      0.783\n",
            "\n",
            "     Epoch   gpu_mem       box       obj       cls    labels  img_size\n",
            "     80/99      7.3G   0.01458  0.006299 0.0008532        72       640: 100% 22/22 [00:48<00:00,  2.21s/it]\n",
            "               Class     Images     Labels          P          R     mAP@.5 mAP@.5:.95: 100% 2/2 [00:01<00:00,  1.05it/s]\n",
            "                 all         88        132      0.994      0.929      0.976      0.776\n",
            "\n",
            "     Epoch   gpu_mem       box       obj       cls    labels  img_size\n",
            "     81/99      7.3G   0.01399   0.00644 0.0007637        81       640: 100% 22/22 [00:48<00:00,  2.21s/it]\n",
            "               Class     Images     Labels          P          R     mAP@.5 mAP@.5:.95: 100% 2/2 [00:01<00:00,  1.06it/s]\n",
            "                 all         88        132      0.983      0.928      0.965      0.785\n",
            "\n",
            "     Epoch   gpu_mem       box       obj       cls    labels  img_size\n",
            "     82/99      7.3G   0.01403  0.005962 0.0007254        70       640: 100% 22/22 [00:48<00:00,  2.21s/it]\n",
            "               Class     Images     Labels          P          R     mAP@.5 mAP@.5:.95: 100% 2/2 [00:01<00:00,  1.07it/s]\n",
            "                 all         88        132      0.978      0.924      0.973      0.774\n",
            "\n",
            "     Epoch   gpu_mem       box       obj       cls    labels  img_size\n",
            "     83/99      7.3G   0.01384  0.006156  0.000778        86       640: 100% 22/22 [00:48<00:00,  2.21s/it]\n",
            "               Class     Images     Labels          P          R     mAP@.5 mAP@.5:.95: 100% 2/2 [00:01<00:00,  1.05it/s]\n",
            "                 all         88        132       0.99      0.924      0.971      0.785\n",
            "\n",
            "     Epoch   gpu_mem       box       obj       cls    labels  img_size\n",
            "     84/99      7.3G   0.01347  0.005884 0.0006767        71       640: 100% 22/22 [00:48<00:00,  2.21s/it]\n",
            "               Class     Images     Labels          P          R     mAP@.5 mAP@.5:.95: 100% 2/2 [00:01<00:00,  1.05it/s]\n",
            "                 all         88        132      0.994      0.923      0.957      0.768\n",
            "\n",
            "     Epoch   gpu_mem       box       obj       cls    labels  img_size\n",
            "     85/99      7.3G   0.01304  0.006225 0.0006423        72       640: 100% 22/22 [00:48<00:00,  2.21s/it]\n",
            "               Class     Images     Labels          P          R     mAP@.5 mAP@.5:.95: 100% 2/2 [00:01<00:00,  1.05it/s]\n",
            "                 all         88        132      0.997      0.927      0.963      0.775\n",
            "\n",
            "     Epoch   gpu_mem       box       obj       cls    labels  img_size\n",
            "     86/99      7.3G   0.01314     0.006 0.0006627        79       640: 100% 22/22 [00:48<00:00,  2.21s/it]\n",
            "               Class     Images     Labels          P          R     mAP@.5 mAP@.5:.95: 100% 2/2 [00:01<00:00,  1.06it/s]\n",
            "                 all         88        132      0.994      0.924      0.974      0.772\n",
            "\n",
            "     Epoch   gpu_mem       box       obj       cls    labels  img_size\n",
            "     87/99      7.3G   0.01313  0.005989 0.0006378        72       640: 100% 22/22 [00:48<00:00,  2.21s/it]\n",
            "               Class     Images     Labels          P          R     mAP@.5 mAP@.5:.95: 100% 2/2 [00:01<00:00,  1.06it/s]\n",
            "                 all         88        132      0.984      0.937      0.971       0.77\n",
            "\n",
            "     Epoch   gpu_mem       box       obj       cls    labels  img_size\n",
            "     88/99      7.3G   0.01321  0.005656 0.0006742        64       640: 100% 22/22 [00:48<00:00,  2.21s/it]\n",
            "               Class     Images     Labels          P          R     mAP@.5 mAP@.5:.95: 100% 2/2 [00:01<00:00,  1.06it/s]\n",
            "                 all         88        132      0.982      0.924      0.959      0.772\n",
            "\n",
            "     Epoch   gpu_mem       box       obj       cls    labels  img_size\n",
            "     89/99      7.3G   0.01357  0.005662 0.0008674        59       640: 100% 22/22 [00:48<00:00,  2.21s/it]\n",
            "               Class     Images     Labels          P          R     mAP@.5 mAP@.5:.95: 100% 2/2 [00:01<00:00,  1.05it/s]\n",
            "                 all         88        132      0.989       0.92      0.958      0.769\n",
            "\n",
            "     Epoch   gpu_mem       box       obj       cls    labels  img_size\n",
            "     90/99      7.3G   0.01337  0.005646 0.0007568        78       640: 100% 22/22 [00:48<00:00,  2.21s/it]\n",
            "               Class     Images     Labels          P          R     mAP@.5 mAP@.5:.95: 100% 2/2 [00:01<00:00,  1.06it/s]\n",
            "                 all         88        132      0.987      0.927      0.981      0.783\n",
            "\n",
            "     Epoch   gpu_mem       box       obj       cls    labels  img_size\n",
            "     91/99      7.3G   0.01258  0.005412 0.0007009        78       640: 100% 22/22 [00:48<00:00,  2.21s/it]\n",
            "               Class     Images     Labels          P          R     mAP@.5 mAP@.5:.95: 100% 2/2 [00:01<00:00,  1.05it/s]\n",
            "                 all         88        132       0.99       0.92      0.956      0.783\n",
            "\n",
            "     Epoch   gpu_mem       box       obj       cls    labels  img_size\n",
            "     92/99      7.3G   0.01244  0.005751 0.0006459        63       640: 100% 22/22 [00:48<00:00,  2.21s/it]\n",
            "               Class     Images     Labels          P          R     mAP@.5 mAP@.5:.95: 100% 2/2 [00:01<00:00,  1.03it/s]\n",
            "                 all         88        132      0.991      0.924      0.973      0.802\n",
            "\n",
            "     Epoch   gpu_mem       box       obj       cls    labels  img_size\n",
            "     93/99      7.3G   0.01259  0.005811 0.0006165        71       640: 100% 22/22 [00:48<00:00,  2.21s/it]\n",
            "               Class     Images     Labels          P          R     mAP@.5 mAP@.5:.95: 100% 2/2 [00:01<00:00,  1.06it/s]\n",
            "                 all         88        132      0.989      0.924      0.971      0.801\n",
            "\n",
            "     Epoch   gpu_mem       box       obj       cls    labels  img_size\n",
            "     94/99      7.3G   0.01253  0.005646 0.0006053        62       640: 100% 22/22 [00:48<00:00,  2.21s/it]\n",
            "               Class     Images     Labels          P          R     mAP@.5 mAP@.5:.95: 100% 2/2 [00:01<00:00,  1.06it/s]\n",
            "                 all         88        132      0.992       0.93      0.963      0.793\n",
            "\n",
            "     Epoch   gpu_mem       box       obj       cls    labels  img_size\n",
            "     95/99      7.3G    0.0128  0.005782 0.0005942        55       640: 100% 22/22 [00:48<00:00,  2.21s/it]\n",
            "               Class     Images     Labels          P          R     mAP@.5 mAP@.5:.95: 100% 2/2 [00:01<00:00,  1.06it/s]\n",
            "                 all         88        132      0.987      0.923      0.957      0.794\n",
            "\n",
            "     Epoch   gpu_mem       box       obj       cls    labels  img_size\n",
            "     96/99      7.3G   0.01277  0.005609 0.0006706        64       640: 100% 22/22 [00:48<00:00,  2.21s/it]\n",
            "               Class     Images     Labels          P          R     mAP@.5 mAP@.5:.95: 100% 2/2 [00:01<00:00,  1.06it/s]\n",
            "                 all         88        132      0.996      0.927       0.97      0.789\n",
            "\n",
            "     Epoch   gpu_mem       box       obj       cls    labels  img_size\n",
            "     97/99      7.3G    0.0123  0.005545 0.0005213        68       640: 100% 22/22 [00:48<00:00,  2.21s/it]\n",
            "               Class     Images     Labels          P          R     mAP@.5 mAP@.5:.95: 100% 2/2 [00:01<00:00,  1.06it/s]\n",
            "                 all         88        132      0.992      0.929      0.975      0.782\n",
            "\n",
            "     Epoch   gpu_mem       box       obj       cls    labels  img_size\n",
            "     98/99      7.3G   0.01239  0.005781 0.0005379        77       640: 100% 22/22 [00:48<00:00,  2.21s/it]\n",
            "               Class     Images     Labels          P          R     mAP@.5 mAP@.5:.95: 100% 2/2 [00:01<00:00,  1.06it/s]\n",
            "                 all         88        132      0.993      0.927      0.973      0.786\n",
            "\n",
            "     Epoch   gpu_mem       box       obj       cls    labels  img_size\n",
            "     99/99      7.3G   0.01219  0.005484  0.000555        74       640: 100% 22/22 [00:48<00:00,  2.21s/it]\n",
            "               Class     Images     Labels          P          R     mAP@.5 mAP@.5:.95: 100% 2/2 [00:01<00:00,  1.05it/s]\n",
            "                 all         88        132      0.995      0.927      0.968      0.784\n",
            "\n",
            "100 epochs completed in 1.422 hours.\n",
            "Optimizer stripped from runs/train/yolo_road_det/weights/last.pt, 14.4MB\n",
            "Optimizer stripped from runs/train/yolo_road_det/weights/best.pt, 14.4MB\n",
            "\n",
            "Validating runs/train/yolo_road_det/weights/best.pt...\n",
            "Fusing layers... \n",
            "Model Summary: 224 layers, 7062001 parameters, 0 gradients, 16.4 GFLOPs\n",
            "               Class     Images     Labels          P          R     mAP@.5 mAP@.5:.95: 100% 2/2 [00:02<00:00,  1.43s/it]\n",
            "                 all         88        132      0.991      0.924      0.973        0.8\n",
            "        trafficlight         88         19          1      0.842      0.957      0.622\n",
            "                stop         88         10      0.989        0.9      0.951       0.85\n",
            "          speedlimit         88         81      0.976          1      0.992      0.902\n",
            "           crosswalk         88         22      0.999      0.955       0.99      0.828\n",
            "Results saved to \u001b[1mruns/train/yolo_road_det\u001b[0m\n"
          ]
        }
      ]
    },
    {
      "cell_type": "code",
      "metadata": {
        "colab": {
          "base_uri": "https://localhost:8080/"
        },
        "id": "YK8kOPZxS_vS",
        "outputId": "4dbd9312-bf45-4a95-ca21-f1352b4b7ecd"
      },
      "source": [
        "!python detect.py --source ../Road_Sign_Dataset/images/test/ --weights runs/train/yolo_road_det/weights/best.pt --conf 0.25 --name yolo_road_det"
      ],
      "execution_count": null,
      "outputs": [
        {
          "output_type": "stream",
          "name": "stdout",
          "text": [
            "\u001b[34m\u001b[1mdetect: \u001b[0mweights=['runs/train/yolo_road_det/weights/best.pt'], source=../Road_Sign_Dataset/images/test/, imgsz=[640, 640], conf_thres=0.25, iou_thres=0.45, max_det=1000, device=, view_img=False, save_txt=False, save_conf=False, save_crop=False, nosave=False, classes=None, agnostic_nms=False, augment=False, visualize=False, update=False, project=runs/detect, name=yolo_road_det, exist_ok=False, line_thickness=3, hide_labels=False, hide_conf=False, half=False\n",
            "YOLOv5 🚀 v5.0-496-g070af88 torch 1.9.0+cu111 CUDA:0 (Tesla K80, 11441.1875MB)\n",
            "\n",
            "Fusing layers... \n",
            "Model Summary: 224 layers, 7062001 parameters, 0 gradients, 16.4 GFLOPs\n",
            "image 1/88 /content/Road_Sign_Dataset/images/test/road100.png: 640x640 1 speedlimit, Done. (0.035s)\n",
            "image 2/88 /content/Road_Sign_Dataset/images/test/road113.png: 448x640 1 speedlimit, Done. (0.030s)\n",
            "image 3/88 /content/Road_Sign_Dataset/images/test/road129.png: 448x640 1 trafficlight, 1 crosswalk, Done. (0.029s)\n",
            "image 4/88 /content/Road_Sign_Dataset/images/test/road140.png: 448x640 1 crosswalk, Done. (0.029s)\n",
            "image 5/88 /content/Road_Sign_Dataset/images/test/road142.png: 640x448 1 crosswalk, Done. (0.035s)\n",
            "image 6/88 /content/Road_Sign_Dataset/images/test/road143.png: 640x448 1 crosswalk, Done. (0.035s)\n",
            "image 7/88 /content/Road_Sign_Dataset/images/test/road157.png: 640x480 1 speedlimit, Done. (0.032s)\n",
            "image 8/88 /content/Road_Sign_Dataset/images/test/road160.png: 640x480 1 stop, 1 crosswalk, Done. (0.031s)\n",
            "image 9/88 /content/Road_Sign_Dataset/images/test/road164.png: 640x480 1 trafficlight, Done. (0.031s)\n",
            "image 10/88 /content/Road_Sign_Dataset/images/test/road174.png: 640x480 1 speedlimit, Done. (0.031s)\n",
            "image 11/88 /content/Road_Sign_Dataset/images/test/road175.png: 640x480 1 speedlimit, Done. (0.031s)\n",
            "image 12/88 /content/Road_Sign_Dataset/images/test/road18.png: 640x512 2 trafficlights, Done. (0.032s)\n",
            "image 13/88 /content/Road_Sign_Dataset/images/test/road183.png: 640x480 1 speedlimit, 2 crosswalks, Done. (0.032s)\n",
            "image 14/88 /content/Road_Sign_Dataset/images/test/road194.png: 640x480 1 trafficlight, 2 crosswalks, Done. (0.031s)\n",
            "image 15/88 /content/Road_Sign_Dataset/images/test/road199.png: 640x480 1 speedlimit, Done. (0.031s)\n",
            "image 16/88 /content/Road_Sign_Dataset/images/test/road206.png: 640x480 1 speedlimit, Done. (0.031s)\n",
            "image 17/88 /content/Road_Sign_Dataset/images/test/road261.png: 640x480 1 speedlimit, Done. (0.031s)\n",
            "image 18/88 /content/Road_Sign_Dataset/images/test/road267.png: 640x480 1 speedlimit, Done. (0.031s)\n",
            "image 19/88 /content/Road_Sign_Dataset/images/test/road293.png: 640x480 1 speedlimit, Done. (0.031s)\n",
            "image 20/88 /content/Road_Sign_Dataset/images/test/road3.png: 480x640 1 trafficlight, Done. (0.032s)\n",
            "image 21/88 /content/Road_Sign_Dataset/images/test/road315.png: 640x480 1 speedlimit, 1 crosswalk, Done. (0.032s)\n",
            "image 22/88 /content/Road_Sign_Dataset/images/test/road316.png: 640x480 2 speedlimits, 1 crosswalk, Done. (0.031s)\n",
            "image 23/88 /content/Road_Sign_Dataset/images/test/road318.png: 640x480 1 speedlimit, 1 crosswalk, Done. (0.031s)\n",
            "image 24/88 /content/Road_Sign_Dataset/images/test/road321.png: 640x480 2 speedlimits, 1 crosswalk, Done. (0.031s)\n",
            "image 25/88 /content/Road_Sign_Dataset/images/test/road328.png: 640x480 1 speedlimit, Done. (0.031s)\n",
            "image 26/88 /content/Road_Sign_Dataset/images/test/road33.png: 640x448 1 trafficlight, Done. (0.035s)\n",
            "image 27/88 /content/Road_Sign_Dataset/images/test/road337.png: 640x480 1 speedlimit, Done. (0.033s)\n",
            "image 28/88 /content/Road_Sign_Dataset/images/test/road356.png: 640x480 1 stop, Done. (0.031s)\n",
            "image 29/88 /content/Road_Sign_Dataset/images/test/road360.png: 640x480 1 speedlimit, Done. (0.031s)\n",
            "image 30/88 /content/Road_Sign_Dataset/images/test/road367.png: 640x480 1 speedlimit, 1 crosswalk, Done. (0.031s)\n",
            "image 31/88 /content/Road_Sign_Dataset/images/test/road37.png: 640x448 1 trafficlight, Done. (0.035s)\n",
            "image 32/88 /content/Road_Sign_Dataset/images/test/road385.png: 640x480 1 speedlimit, Done. (0.032s)\n",
            "image 33/88 /content/Road_Sign_Dataset/images/test/road403.png: 640x480 1 speedlimit, Done. (0.031s)\n",
            "image 34/88 /content/Road_Sign_Dataset/images/test/road408.png: 640x480 1 speedlimit, Done. (0.031s)\n",
            "image 35/88 /content/Road_Sign_Dataset/images/test/road417.png: 640x480 1 speedlimit, Done. (0.031s)\n",
            "image 36/88 /content/Road_Sign_Dataset/images/test/road418.png: 640x480 1 speedlimit, Done. (0.031s)\n",
            "image 37/88 /content/Road_Sign_Dataset/images/test/road43.png: 448x640 5 trafficlights, Done. (0.030s)\n",
            "image 38/88 /content/Road_Sign_Dataset/images/test/road431.png: 640x480 1 speedlimit, Done. (0.032s)\n",
            "image 39/88 /content/Road_Sign_Dataset/images/test/road433.png: 640x480 1 speedlimit, Done. (0.031s)\n",
            "image 40/88 /content/Road_Sign_Dataset/images/test/road445.png: 640x480 1 speedlimit, Done. (0.031s)\n",
            "image 41/88 /content/Road_Sign_Dataset/images/test/road47.png: 448x640 1 trafficlight, Done. (0.030s)\n",
            "image 42/88 /content/Road_Sign_Dataset/images/test/road486.png: 640x480 1 speedlimit, Done. (0.032s)\n",
            "image 43/88 /content/Road_Sign_Dataset/images/test/road490.png: 640x480 1 speedlimit, Done. (0.031s)\n",
            "image 44/88 /content/Road_Sign_Dataset/images/test/road492.png: 640x480 1 speedlimit, Done. (0.031s)\n",
            "image 45/88 /content/Road_Sign_Dataset/images/test/road494.png: 640x480 1 speedlimit, Done. (0.031s)\n",
            "image 46/88 /content/Road_Sign_Dataset/images/test/road498.png: 640x480 1 speedlimit, Done. (0.031s)\n",
            "image 47/88 /content/Road_Sign_Dataset/images/test/road50.png: 640x448 1 trafficlight, Done. (0.036s)\n",
            "image 48/88 /content/Road_Sign_Dataset/images/test/road543.png: 640x480 1 speedlimit, 1 crosswalk, Done. (0.032s)\n",
            "image 49/88 /content/Road_Sign_Dataset/images/test/road547.png: 640x480 1 speedlimit, 2 crosswalks, Done. (0.031s)\n",
            "image 50/88 /content/Road_Sign_Dataset/images/test/road550.png: 640x480 1 speedlimit, Done. (0.031s)\n",
            "image 51/88 /content/Road_Sign_Dataset/images/test/road558.png: 640x480 1 speedlimit, Done. (0.031s)\n",
            "image 52/88 /content/Road_Sign_Dataset/images/test/road563.png: 640x480 1 speedlimit, 1 crosswalk, Done. (0.031s)\n",
            "image 53/88 /content/Road_Sign_Dataset/images/test/road564.png: 640x480 1 speedlimit, 1 crosswalk, Done. (0.031s)\n",
            "image 54/88 /content/Road_Sign_Dataset/images/test/road590.png: 640x480 1 speedlimit, Done. (0.031s)\n",
            "image 55/88 /content/Road_Sign_Dataset/images/test/road599.png: 640x480 1 speedlimit, Done. (0.031s)\n",
            "image 56/88 /content/Road_Sign_Dataset/images/test/road600.png: 640x480 1 speedlimit, 1 crosswalk, Done. (0.031s)\n",
            "image 57/88 /content/Road_Sign_Dataset/images/test/road609.png: 640x480 1 speedlimit, 1 crosswalk, Done. (0.031s)\n",
            "image 58/88 /content/Road_Sign_Dataset/images/test/road617.png: 640x480 1 speedlimit, 1 crosswalk, Done. (0.031s)\n",
            "image 59/88 /content/Road_Sign_Dataset/images/test/road625.png: 640x480 1 speedlimit, Done. (0.031s)\n",
            "image 60/88 /content/Road_Sign_Dataset/images/test/road640.png: 640x480 2 speedlimits, Done. (0.031s)\n",
            "image 61/88 /content/Road_Sign_Dataset/images/test/road643.png: 640x480 1 speedlimit, Done. (0.031s)\n",
            "image 62/88 /content/Road_Sign_Dataset/images/test/road661.png: 640x480 1 speedlimit, Done. (0.031s)\n",
            "image 63/88 /content/Road_Sign_Dataset/images/test/road665.png: 640x480 1 speedlimit, Done. (0.031s)\n",
            "image 64/88 /content/Road_Sign_Dataset/images/test/road667.png: 640x480 1 speedlimit, Done. (0.030s)\n",
            "image 65/88 /content/Road_Sign_Dataset/images/test/road67.png: 448x640 1 stop, Done. (0.030s)\n",
            "image 66/88 /content/Road_Sign_Dataset/images/test/road672.png: 640x480 1 speedlimit, Done. (0.031s)\n",
            "image 67/88 /content/Road_Sign_Dataset/images/test/road679.png: 640x480 1 speedlimit, Done. (0.030s)\n",
            "image 68/88 /content/Road_Sign_Dataset/images/test/road695.png: 640x480 2 speedlimits, Done. (0.030s)\n",
            "image 69/88 /content/Road_Sign_Dataset/images/test/road709.png: 640x480 2 speedlimits, Done. (0.030s)\n",
            "image 70/88 /content/Road_Sign_Dataset/images/test/road712.png: 640x480 2 speedlimits, Done. (0.030s)\n",
            "image 71/88 /content/Road_Sign_Dataset/images/test/road721.png: 640x480 1 speedlimit, Done. (0.030s)\n",
            "image 72/88 /content/Road_Sign_Dataset/images/test/road730.png: 640x480 2 speedlimits, Done. (0.030s)\n",
            "image 73/88 /content/Road_Sign_Dataset/images/test/road731.png: 640x480 2 speedlimits, Done. (0.030s)\n",
            "image 74/88 /content/Road_Sign_Dataset/images/test/road748.png: 640x480 2 speedlimits, Done. (0.030s)\n",
            "image 75/88 /content/Road_Sign_Dataset/images/test/road764.png: 640x480 1 speedlimit, Done. (0.030s)\n",
            "image 76/88 /content/Road_Sign_Dataset/images/test/road784.png: 640x480 1 speedlimit, 1 crosswalk, Done. (0.030s)\n",
            "image 77/88 /content/Road_Sign_Dataset/images/test/road789.png: 640x480 1 speedlimit, Done. (0.030s)\n",
            "image 78/88 /content/Road_Sign_Dataset/images/test/road796.png: 640x480 1 speedlimit, Done. (0.031s)\n",
            "image 79/88 /content/Road_Sign_Dataset/images/test/road80.png: 640x640 1 stop, Done. (0.035s)\n",
            "image 80/88 /content/Road_Sign_Dataset/images/test/road801.png: 640x480 1 speedlimit, Done. (0.031s)\n",
            "image 81/88 /content/Road_Sign_Dataset/images/test/road803.png: 640x480 1 speedlimit, Done. (0.030s)\n",
            "image 82/88 /content/Road_Sign_Dataset/images/test/road804.png: 640x480 1 speedlimit, Done. (0.030s)\n",
            "image 83/88 /content/Road_Sign_Dataset/images/test/road809.png: 640x480 1 speedlimit, Done. (0.030s)\n",
            "image 84/88 /content/Road_Sign_Dataset/images/test/road819.png: 640x480 2 trafficlights, 1 crosswalk, Done. (0.029s)\n",
            "image 85/88 /content/Road_Sign_Dataset/images/test/road841.png: 640x480 1 speedlimit, 1 crosswalk, Done. (0.029s)\n",
            "image 86/88 /content/Road_Sign_Dataset/images/test/road854.png: 640x480 1 speedlimit, Done. (0.029s)\n",
            "image 87/88 /content/Road_Sign_Dataset/images/test/road91.png: 640x640 1 stop, Done. (0.034s)\n",
            "image 88/88 /content/Road_Sign_Dataset/images/test/road96.png: 448x640 1 stop, Done. (0.029s)\n",
            "Speed: 0.5ms pre-process, 31.2ms inference, 1.4ms NMS per image at shape (1, 3, 640, 640)\n",
            "Results saved to \u001b[1mruns/detect/yolo_road_det\u001b[0m\n"
          ]
        }
      ]
    },
    {
      "cell_type": "code",
      "metadata": {
        "colab": {
          "base_uri": "https://localhost:8080/",
          "height": 286
        },
        "id": "XcwrwWq8TE-G",
        "outputId": "91dd0d28-cf4f-4bfd-a8a1-c07f8b9eb530"
      },
      "source": [
        "detections_dir = \"runs/detect/yolo_road_det/\"\n",
        "detection_images = [os.path.join(detections_dir, x) for x in os.listdir(detections_dir)]\n",
        "\n",
        "random_detection_image = Image.open(random.choice(detection_images))\n",
        "plt.imshow(np.array(random_detection_image))"
      ],
      "execution_count": null,
      "outputs": [
        {
          "output_type": "execute_result",
          "data": {
            "text/plain": [
              "<matplotlib.image.AxesImage at 0x7f48c976b9d0>"
            ]
          },
          "metadata": {},
          "execution_count": 27
        },
        {
          "output_type": "display_data",
          "data": {
            "image/png": "[encoded data removed]",
            "text/plain": [
              "<Figure size 432x288 with 1 Axes>"
            ]
          },
          "metadata": {
            "needs_background": "light"
          }
        }
      ]
    },
    {
      "cell_type": "code",
      "metadata": {
        "colab": {
          "base_uri": "https://localhost:8080/"
        },
        "id": "STLAiU7ITpNZ",
        "outputId": "1bcb93cf-bda6-4f43-e1fd-ff33bde47c64"
      },
      "source": [
        "!python val.py --weights runs/train/yolo_road_det/weights/best.pt --data road_sign_data.yaml --task test --name yolo_det"
      ],
      "execution_count": null,
      "outputs": [
        {
          "output_type": "stream",
          "name": "stdout",
          "text": [
            "\u001b[34m\u001b[1mval: \u001b[0mdata=/content/yolov5/data/road_sign_data.yaml, weights=['runs/train/yolo_road_det/weights/best.pt'], batch_size=32, imgsz=640, conf_thres=0.001, iou_thres=0.6, task=test, device=, single_cls=False, augment=False, verbose=False, save_txt=False, save_hybrid=False, save_conf=False, save_json=False, project=runs/val, name=yolo_det, exist_ok=False, half=False\n",
            "YOLOv5 🚀 v5.0-496-g070af88 torch 1.9.0+cu111 CUDA:0 (Tesla K80, 11441.1875MB)\n",
            "\n",
            "Fusing layers... \n",
            "Model Summary: 224 layers, 7062001 parameters, 0 gradients, 16.4 GFLOPs\n",
            "\u001b[34m\u001b[1mtest: \u001b[0mScanning '../Road_Sign_Dataset/labels/test' images and labels...88 found, 0 missing, 0 empty, 0 corrupted: 100% 88/88 [00:00<00:00, 626.47it/s]\n",
            "\u001b[34m\u001b[1mtest: \u001b[0mNew cache created: ../Road_Sign_Dataset/labels/test.cache\n",
            "               Class     Images     Labels          P          R     mAP@.5 mAP@.5:.95: 100% 3/3 [00:03<00:00,  1.32s/it]\n",
            "                 all         88        126      0.971      0.943      0.946      0.779\n",
            "        trafficlight         88         20      0.941        0.8      0.803      0.511\n",
            "                stop         88          7          1      0.985      0.995      0.855\n",
            "          speedlimit         88         76      0.986          1      0.995      0.909\n",
            "           crosswalk         88         23      0.958      0.987      0.992      0.839\n",
            "Speed: 0.4ms pre-process, 19.3ms inference, 4.2ms NMS per image at shape (32, 3, 640, 640)\n",
            "Results saved to \u001b[1mruns/val/yolo_det\u001b[0m\n"
          ]
        }
      ]
    },
    {
      "cell_type": "code",
      "metadata": {
        "colab": {
          "base_uri": "https://localhost:8080/"
        },
        "id": "pAGrxEifSp_h",
        "outputId": "3a2e64bf-b8b4-49ac-fbc1-a7634484bf6b"
      },
      "source": [
        "!zip -r yolo_road_det.zip runs/train/yolo_road_det"
      ],
      "execution_count": null,
      "outputs": [
        {
          "output_type": "stream",
          "name": "stdout",
          "text": [
            "updating: runs/train/yolo_road_det/ (stored 0%)\n",
            "updating: runs/train/yolo_road_det/results.csv (deflated 82%)\n",
            "updating: runs/train/yolo_road_det/train_batch0.jpg (deflated 4%)\n",
            "updating: runs/train/yolo_road_det/train_batch2.jpg (deflated 5%)\n",
            "updating: runs/train/yolo_road_det/labels.jpg (deflated 23%)\n",
            "updating: runs/train/yolo_road_det/hyp.yaml (deflated 44%)\n",
            "updating: runs/train/yolo_road_det/events.out.tfevents.1633630711.523616ddecd1.161.0 (deflated 34%)\n",
            "updating: runs/train/yolo_road_det/confusion_matrix.png (deflated 28%)\n",
            "updating: runs/train/yolo_road_det/results.png (deflated 10%)\n",
            "updating: runs/train/yolo_road_det/train_batch1.jpg (deflated 4%)\n",
            "updating: runs/train/yolo_road_det/val_batch0_labels.jpg (deflated 13%)\n",
            "updating: runs/train/yolo_road_det/weights/ (stored 0%)\n",
            "updating: runs/train/yolo_road_det/weights/best.pt (deflated 8%)\n",
            "updating: runs/train/yolo_road_det/weights/last.pt (deflated 8%)\n",
            "updating: runs/train/yolo_road_det/R_curve.png (deflated 13%)\n",
            "updating: runs/train/yolo_road_det/val_batch1_labels.jpg (deflated 8%)\n",
            "updating: runs/train/yolo_road_det/opt.yaml (deflated 45%)\n",
            "updating: runs/train/yolo_road_det/val_batch1_pred.jpg (deflated 7%)\n",
            "updating: runs/train/yolo_road_det/F1_curve.png (deflated 10%)\n",
            "updating: runs/train/yolo_road_det/PR_curve.png (deflated 21%)\n",
            "updating: runs/train/yolo_road_det/val_batch0_pred.jpg (deflated 13%)\n",
            "updating: runs/train/yolo_road_det/P_curve.png (deflated 13%)\n",
            "updating: runs/train/yolo_road_det/labels_correlogram.jpg (deflated 26%)\n"
          ]
        }
      ]
    },
    {
      "cell_type": "code",
      "metadata": {
        "colab": {
          "base_uri": "https://localhost:8080/",
          "height": 17
        },
        "id": "bDvB1rylS2kG",
        "outputId": "9a2dc00d-59b6-45d2-aa59-db174a05c8c1"
      },
      "source": [
        "from google.colab import files\n",
        "files.download(\"yolo_road_det.zip\")"
      ],
      "execution_count": null,
      "outputs": [
        {
          "output_type": "display_data",
          "data": {
            "application/javascript": [
              "\n",
              "    async function download(id, filename, size) {\n",
              "      if (!google.colab.kernel.accessAllowed) {\n",
              "        return;\n",
              "      }\n",
              "      const div = document.createElement('div');\n",
              "      const label = document.createElement('label');\n",
              "      label.textContent = `Downloading \"${filename}\": `;\n",
              "      div.appendChild(label);\n",
              "      const progress = document.createElement('progress');\n",
              "      progress.max = size;\n",
              "      div.appendChild(progress);\n",
              "      document.body.appendChild(div);\n",
              "\n",
              "      const buffers = [];\n",
              "      let downloaded = 0;\n",
              "\n",
              "      const channel = await google.colab.kernel.comms.open(id);\n",
              "      // Send a message to notify the kernel that we're ready.\n",
              "      channel.send({})\n",
              "\n",
              "      for await (const message of channel.messages) {\n",
              "        // Send a message to notify the kernel that we're ready.\n",
              "        channel.send({})\n",
              "        if (message.buffers) {\n",
              "          for (const buffer of message.buffers) {\n",
              "            buffers.push(buffer);\n",
              "            downloaded += buffer.byteLength;\n",
              "            progress.value = downloaded;\n",
              "          }\n",
              "        }\n",
              "      }\n",
              "      const blob = new Blob(buffers, {type: 'application/binary'});\n",
              "      const a = document.createElement('a');\n",
              "      a.href = window.URL.createObjectURL(blob);\n",
              "      a.download = filename;\n",
              "      div.appendChild(a);\n",
              "      a.click();\n",
              "      div.remove();\n",
              "    }\n",
              "  "
            ],
            "text/plain": [
              "<IPython.core.display.Javascript object>"
            ]
          },
          "metadata": {}
        },
        {
          "output_type": "display_data",
          "data": {
            "application/javascript": [
              "download(\"download_ba8c3ecc-8289-4d34-b29e-fd0d3942aec4\", \"yolo_road_det.zip\", 31240979)"
            ],
            "text/plain": [
              "<IPython.core.display.Javascript object>"
            ]
          },
          "metadata": {}
        }
      ]
    }
  ]
}